{
 "cells": [
  {
   "cell_type": "code",
   "execution_count": 1,
   "metadata": {
    "_cell_guid": "b1076dfc-b9ad-4769-8c92-a6c4dae69d19",
    "_uuid": "8f2839f25d086af736a60e9eeb907d3b93b6e0e5"
   },
   "outputs": [
    {
     "name": "stdout",
     "output_type": "stream",
     "text": [
      "/kaggle/input/DontGetKicked/training.csv\n",
      "/kaggle/input/DontGetKicked/training.zip\n",
      "/kaggle/input/DontGetKicked/example_entry.csv\n",
      "/kaggle/input/DontGetKicked/Carvana_Data_Dictionary.txt\n",
      "/kaggle/input/DontGetKicked/test.zip\n",
      "/kaggle/input/DontGetKicked/test.csv\n"
     ]
    }
   ],
   "source": [
    "# This Python 3 environment comes with many helpful analytics libraries installed\n",
    "# It is defined by the kaggle/python Docker image: https://github.com/kaggle/docker-python\n",
    "# For example, here's several helpful packages to load\n",
    "\n",
    "import numpy as np # linear algebra\n",
    "import pandas as pd # data processing, CSV file I/O (e.g. pd.read_csv)\n",
    "# Input data files are available in the read-only \"../input/\" directory\n",
    "# For example, running this (by clicking run or pressing Shift+Enter) will list all files under the input directory\n",
    "\n",
    "import os\n",
    "for dirname, _, filenames in os.walk('/kaggle/input'):\n",
    "    for filename in filenames:\n",
    "        print(os.path.join(dirname, filename))\n",
    "\n",
    "# You can write up to 5GB to the current directory (/kaggle/working/) that gets preserved as output when you create a version using \"Save & Run All\" \n",
    "# You can also write temporary files to /kaggle/temp/, but they won't be saved outside of the current session"
   ]
  },
  {
   "cell_type": "code",
   "execution_count": 2,
   "metadata": {
    "_cell_guid": "79c7e3d0-c299-4dcb-8224-4455121ee9b0",
    "_uuid": "d629ff2d2480ee46fbb7e2d37f6b5fab8052498a"
   },
   "outputs": [
    {
     "data": {
      "text/html": [
       "<div>\n",
       "<style scoped>\n",
       "    .dataframe tbody tr th:only-of-type {\n",
       "        vertical-align: middle;\n",
       "    }\n",
       "\n",
       "    .dataframe tbody tr th {\n",
       "        vertical-align: top;\n",
       "    }\n",
       "\n",
       "    .dataframe thead th {\n",
       "        text-align: right;\n",
       "    }\n",
       "</style>\n",
       "<table border=\"1\" class=\"dataframe\">\n",
       "  <thead>\n",
       "    <tr style=\"text-align: right;\">\n",
       "      <th></th>\n",
       "      <th>RefId</th>\n",
       "      <th>IsBadBuy</th>\n",
       "      <th>PurchDate</th>\n",
       "      <th>Auction</th>\n",
       "      <th>VehYear</th>\n",
       "      <th>VehicleAge</th>\n",
       "      <th>Make</th>\n",
       "      <th>Model</th>\n",
       "      <th>Trim</th>\n",
       "      <th>SubModel</th>\n",
       "      <th>...</th>\n",
       "      <th>MMRCurrentRetailAveragePrice</th>\n",
       "      <th>MMRCurrentRetailCleanPrice</th>\n",
       "      <th>PRIMEUNIT</th>\n",
       "      <th>AUCGUART</th>\n",
       "      <th>BYRNO</th>\n",
       "      <th>VNZIP1</th>\n",
       "      <th>VNST</th>\n",
       "      <th>VehBCost</th>\n",
       "      <th>IsOnlineSale</th>\n",
       "      <th>WarrantyCost</th>\n",
       "    </tr>\n",
       "  </thead>\n",
       "  <tbody>\n",
       "    <tr>\n",
       "      <th>0</th>\n",
       "      <td>1</td>\n",
       "      <td>0</td>\n",
       "      <td>12/7/2009</td>\n",
       "      <td>ADESA</td>\n",
       "      <td>2006</td>\n",
       "      <td>3</td>\n",
       "      <td>MAZDA</td>\n",
       "      <td>MAZDA3</td>\n",
       "      <td>i</td>\n",
       "      <td>4D SEDAN I</td>\n",
       "      <td>...</td>\n",
       "      <td>11597.0</td>\n",
       "      <td>12409.0</td>\n",
       "      <td>NaN</td>\n",
       "      <td>NaN</td>\n",
       "      <td>21973</td>\n",
       "      <td>33619</td>\n",
       "      <td>FL</td>\n",
       "      <td>7100.0</td>\n",
       "      <td>0</td>\n",
       "      <td>1113</td>\n",
       "    </tr>\n",
       "    <tr>\n",
       "      <th>1</th>\n",
       "      <td>2</td>\n",
       "      <td>0</td>\n",
       "      <td>12/7/2009</td>\n",
       "      <td>ADESA</td>\n",
       "      <td>2004</td>\n",
       "      <td>5</td>\n",
       "      <td>DODGE</td>\n",
       "      <td>1500 RAM PICKUP 2WD</td>\n",
       "      <td>ST</td>\n",
       "      <td>QUAD CAB 4.7L SLT</td>\n",
       "      <td>...</td>\n",
       "      <td>11374.0</td>\n",
       "      <td>12791.0</td>\n",
       "      <td>NaN</td>\n",
       "      <td>NaN</td>\n",
       "      <td>19638</td>\n",
       "      <td>33619</td>\n",
       "      <td>FL</td>\n",
       "      <td>7600.0</td>\n",
       "      <td>0</td>\n",
       "      <td>1053</td>\n",
       "    </tr>\n",
       "    <tr>\n",
       "      <th>2</th>\n",
       "      <td>3</td>\n",
       "      <td>0</td>\n",
       "      <td>12/7/2009</td>\n",
       "      <td>ADESA</td>\n",
       "      <td>2005</td>\n",
       "      <td>4</td>\n",
       "      <td>DODGE</td>\n",
       "      <td>STRATUS V6</td>\n",
       "      <td>SXT</td>\n",
       "      <td>4D SEDAN SXT FFV</td>\n",
       "      <td>...</td>\n",
       "      <td>7146.0</td>\n",
       "      <td>8702.0</td>\n",
       "      <td>NaN</td>\n",
       "      <td>NaN</td>\n",
       "      <td>19638</td>\n",
       "      <td>33619</td>\n",
       "      <td>FL</td>\n",
       "      <td>4900.0</td>\n",
       "      <td>0</td>\n",
       "      <td>1389</td>\n",
       "    </tr>\n",
       "    <tr>\n",
       "      <th>3</th>\n",
       "      <td>4</td>\n",
       "      <td>0</td>\n",
       "      <td>12/7/2009</td>\n",
       "      <td>ADESA</td>\n",
       "      <td>2004</td>\n",
       "      <td>5</td>\n",
       "      <td>DODGE</td>\n",
       "      <td>NEON</td>\n",
       "      <td>SXT</td>\n",
       "      <td>4D SEDAN</td>\n",
       "      <td>...</td>\n",
       "      <td>4375.0</td>\n",
       "      <td>5518.0</td>\n",
       "      <td>NaN</td>\n",
       "      <td>NaN</td>\n",
       "      <td>19638</td>\n",
       "      <td>33619</td>\n",
       "      <td>FL</td>\n",
       "      <td>4100.0</td>\n",
       "      <td>0</td>\n",
       "      <td>630</td>\n",
       "    </tr>\n",
       "    <tr>\n",
       "      <th>4</th>\n",
       "      <td>5</td>\n",
       "      <td>0</td>\n",
       "      <td>12/7/2009</td>\n",
       "      <td>ADESA</td>\n",
       "      <td>2005</td>\n",
       "      <td>4</td>\n",
       "      <td>FORD</td>\n",
       "      <td>FOCUS</td>\n",
       "      <td>ZX3</td>\n",
       "      <td>2D COUPE ZX3</td>\n",
       "      <td>...</td>\n",
       "      <td>6739.0</td>\n",
       "      <td>7911.0</td>\n",
       "      <td>NaN</td>\n",
       "      <td>NaN</td>\n",
       "      <td>19638</td>\n",
       "      <td>33619</td>\n",
       "      <td>FL</td>\n",
       "      <td>4000.0</td>\n",
       "      <td>0</td>\n",
       "      <td>1020</td>\n",
       "    </tr>\n",
       "  </tbody>\n",
       "</table>\n",
       "<p>5 rows × 34 columns</p>\n",
       "</div>"
      ],
      "text/plain": [
       "   RefId  IsBadBuy  PurchDate Auction  VehYear  VehicleAge   Make  \\\n",
       "0      1         0  12/7/2009   ADESA     2006           3  MAZDA   \n",
       "1      2         0  12/7/2009   ADESA     2004           5  DODGE   \n",
       "2      3         0  12/7/2009   ADESA     2005           4  DODGE   \n",
       "3      4         0  12/7/2009   ADESA     2004           5  DODGE   \n",
       "4      5         0  12/7/2009   ADESA     2005           4   FORD   \n",
       "\n",
       "                 Model Trim           SubModel  ...  \\\n",
       "0               MAZDA3    i         4D SEDAN I  ...   \n",
       "1  1500 RAM PICKUP 2WD   ST  QUAD CAB 4.7L SLT  ...   \n",
       "2           STRATUS V6  SXT   4D SEDAN SXT FFV  ...   \n",
       "3                 NEON  SXT           4D SEDAN  ...   \n",
       "4                FOCUS  ZX3       2D COUPE ZX3  ...   \n",
       "\n",
       "  MMRCurrentRetailAveragePrice MMRCurrentRetailCleanPrice  PRIMEUNIT AUCGUART  \\\n",
       "0                      11597.0                    12409.0        NaN      NaN   \n",
       "1                      11374.0                    12791.0        NaN      NaN   \n",
       "2                       7146.0                     8702.0        NaN      NaN   \n",
       "3                       4375.0                     5518.0        NaN      NaN   \n",
       "4                       6739.0                     7911.0        NaN      NaN   \n",
       "\n",
       "   BYRNO VNZIP1 VNST VehBCost  IsOnlineSale  WarrantyCost  \n",
       "0  21973  33619   FL   7100.0             0          1113  \n",
       "1  19638  33619   FL   7600.0             0          1053  \n",
       "2  19638  33619   FL   4900.0             0          1389  \n",
       "3  19638  33619   FL   4100.0             0           630  \n",
       "4  19638  33619   FL   4000.0             0          1020  \n",
       "\n",
       "[5 rows x 34 columns]"
      ]
     },
     "execution_count": 2,
     "metadata": {},
     "output_type": "execute_result"
    }
   ],
   "source": [
    "train_data=pd.read_csv('/kaggle/input/DontGetKicked/training.csv')\n",
    "train_data.head()"
   ]
  },
  {
   "cell_type": "code",
   "execution_count": 3,
   "metadata": {},
   "outputs": [
    {
     "data": {
      "text/html": [
       "<div>\n",
       "<style scoped>\n",
       "    .dataframe tbody tr th:only-of-type {\n",
       "        vertical-align: middle;\n",
       "    }\n",
       "\n",
       "    .dataframe tbody tr th {\n",
       "        vertical-align: top;\n",
       "    }\n",
       "\n",
       "    .dataframe thead th {\n",
       "        text-align: right;\n",
       "    }\n",
       "</style>\n",
       "<table border=\"1\" class=\"dataframe\">\n",
       "  <thead>\n",
       "    <tr style=\"text-align: right;\">\n",
       "      <th></th>\n",
       "      <th>RefId</th>\n",
       "      <th>PurchDate</th>\n",
       "      <th>Auction</th>\n",
       "      <th>VehYear</th>\n",
       "      <th>VehicleAge</th>\n",
       "      <th>Make</th>\n",
       "      <th>Model</th>\n",
       "      <th>Trim</th>\n",
       "      <th>SubModel</th>\n",
       "      <th>Color</th>\n",
       "      <th>...</th>\n",
       "      <th>MMRCurrentRetailAveragePrice</th>\n",
       "      <th>MMRCurrentRetailCleanPrice</th>\n",
       "      <th>PRIMEUNIT</th>\n",
       "      <th>AUCGUART</th>\n",
       "      <th>BYRNO</th>\n",
       "      <th>VNZIP1</th>\n",
       "      <th>VNST</th>\n",
       "      <th>VehBCost</th>\n",
       "      <th>IsOnlineSale</th>\n",
       "      <th>WarrantyCost</th>\n",
       "    </tr>\n",
       "  </thead>\n",
       "  <tbody>\n",
       "    <tr>\n",
       "      <th>0</th>\n",
       "      <td>73015</td>\n",
       "      <td>12/2/2009</td>\n",
       "      <td>ADESA</td>\n",
       "      <td>2005</td>\n",
       "      <td>4</td>\n",
       "      <td>PONTIAC</td>\n",
       "      <td>GRAND PRIX</td>\n",
       "      <td>Bas</td>\n",
       "      <td>4D SEDAN</td>\n",
       "      <td>SILVER</td>\n",
       "      <td>...</td>\n",
       "      <td>8557.0</td>\n",
       "      <td>9752.0</td>\n",
       "      <td>NaN</td>\n",
       "      <td>NaN</td>\n",
       "      <td>18881</td>\n",
       "      <td>30212</td>\n",
       "      <td>GA</td>\n",
       "      <td>6500.0</td>\n",
       "      <td>0</td>\n",
       "      <td>2152</td>\n",
       "    </tr>\n",
       "    <tr>\n",
       "      <th>1</th>\n",
       "      <td>73016</td>\n",
       "      <td>12/2/2009</td>\n",
       "      <td>ADESA</td>\n",
       "      <td>2005</td>\n",
       "      <td>4</td>\n",
       "      <td>CHEVROLET</td>\n",
       "      <td>MALIBU V6</td>\n",
       "      <td>LS</td>\n",
       "      <td>4D SEDAN LS</td>\n",
       "      <td>SILVER</td>\n",
       "      <td>...</td>\n",
       "      <td>7562.0</td>\n",
       "      <td>9296.0</td>\n",
       "      <td>NaN</td>\n",
       "      <td>NaN</td>\n",
       "      <td>18111</td>\n",
       "      <td>30212</td>\n",
       "      <td>GA</td>\n",
       "      <td>6300.0</td>\n",
       "      <td>0</td>\n",
       "      <td>1118</td>\n",
       "    </tr>\n",
       "    <tr>\n",
       "      <th>2</th>\n",
       "      <td>73017</td>\n",
       "      <td>12/2/2009</td>\n",
       "      <td>ADESA</td>\n",
       "      <td>2006</td>\n",
       "      <td>3</td>\n",
       "      <td>DODGE</td>\n",
       "      <td>DURANGO 2WD V8</td>\n",
       "      <td>Adv</td>\n",
       "      <td>4D SUV 4.7L ADVENTURER</td>\n",
       "      <td>SILVER</td>\n",
       "      <td>...</td>\n",
       "      <td>15340.0</td>\n",
       "      <td>16512.0</td>\n",
       "      <td>NaN</td>\n",
       "      <td>NaN</td>\n",
       "      <td>18111</td>\n",
       "      <td>30212</td>\n",
       "      <td>GA</td>\n",
       "      <td>9700.0</td>\n",
       "      <td>0</td>\n",
       "      <td>1215</td>\n",
       "    </tr>\n",
       "    <tr>\n",
       "      <th>3</th>\n",
       "      <td>73018</td>\n",
       "      <td>12/2/2009</td>\n",
       "      <td>ADESA</td>\n",
       "      <td>2002</td>\n",
       "      <td>7</td>\n",
       "      <td>SATURN</td>\n",
       "      <td>L SERIES</td>\n",
       "      <td>L20</td>\n",
       "      <td>4D SEDAN L200</td>\n",
       "      <td>GOLD</td>\n",
       "      <td>...</td>\n",
       "      <td>5725.0</td>\n",
       "      <td>6398.0</td>\n",
       "      <td>NaN</td>\n",
       "      <td>NaN</td>\n",
       "      <td>18881</td>\n",
       "      <td>30212</td>\n",
       "      <td>GA</td>\n",
       "      <td>4150.0</td>\n",
       "      <td>0</td>\n",
       "      <td>1933</td>\n",
       "    </tr>\n",
       "    <tr>\n",
       "      <th>4</th>\n",
       "      <td>73019</td>\n",
       "      <td>12/2/2009</td>\n",
       "      <td>ADESA</td>\n",
       "      <td>2007</td>\n",
       "      <td>2</td>\n",
       "      <td>HYUNDAI</td>\n",
       "      <td>ACCENT</td>\n",
       "      <td>GS</td>\n",
       "      <td>2D COUPE GS</td>\n",
       "      <td>BLUE</td>\n",
       "      <td>...</td>\n",
       "      <td>5914.0</td>\n",
       "      <td>7350.0</td>\n",
       "      <td>NaN</td>\n",
       "      <td>NaN</td>\n",
       "      <td>18111</td>\n",
       "      <td>30212</td>\n",
       "      <td>GA</td>\n",
       "      <td>4100.0</td>\n",
       "      <td>0</td>\n",
       "      <td>920</td>\n",
       "    </tr>\n",
       "  </tbody>\n",
       "</table>\n",
       "<p>5 rows × 33 columns</p>\n",
       "</div>"
      ],
      "text/plain": [
       "   RefId  PurchDate Auction  VehYear  VehicleAge       Make           Model  \\\n",
       "0  73015  12/2/2009   ADESA     2005           4    PONTIAC      GRAND PRIX   \n",
       "1  73016  12/2/2009   ADESA     2005           4  CHEVROLET       MALIBU V6   \n",
       "2  73017  12/2/2009   ADESA     2006           3      DODGE  DURANGO 2WD V8   \n",
       "3  73018  12/2/2009   ADESA     2002           7     SATURN        L SERIES   \n",
       "4  73019  12/2/2009   ADESA     2007           2    HYUNDAI          ACCENT   \n",
       "\n",
       "  Trim                SubModel   Color  ... MMRCurrentRetailAveragePrice  \\\n",
       "0  Bas                4D SEDAN  SILVER  ...                       8557.0   \n",
       "1   LS             4D SEDAN LS  SILVER  ...                       7562.0   \n",
       "2  Adv  4D SUV 4.7L ADVENTURER  SILVER  ...                      15340.0   \n",
       "3  L20           4D SEDAN L200    GOLD  ...                       5725.0   \n",
       "4   GS             2D COUPE GS    BLUE  ...                       5914.0   \n",
       "\n",
       "   MMRCurrentRetailCleanPrice PRIMEUNIT  AUCGUART  BYRNO VNZIP1 VNST  \\\n",
       "0                      9752.0       NaN       NaN  18881  30212   GA   \n",
       "1                      9296.0       NaN       NaN  18111  30212   GA   \n",
       "2                     16512.0       NaN       NaN  18111  30212   GA   \n",
       "3                      6398.0       NaN       NaN  18881  30212   GA   \n",
       "4                      7350.0       NaN       NaN  18111  30212   GA   \n",
       "\n",
       "   VehBCost  IsOnlineSale  WarrantyCost  \n",
       "0    6500.0             0          2152  \n",
       "1    6300.0             0          1118  \n",
       "2    9700.0             0          1215  \n",
       "3    4150.0             0          1933  \n",
       "4    4100.0             0           920  \n",
       "\n",
       "[5 rows x 33 columns]"
      ]
     },
     "execution_count": 3,
     "metadata": {},
     "output_type": "execute_result"
    }
   ],
   "source": [
    "test_data=pd.read_csv('/kaggle/input/DontGetKicked/test.csv')\n",
    "test_data.head()"
   ]
  },
  {
   "cell_type": "code",
   "execution_count": 4,
   "metadata": {},
   "outputs": [
    {
     "name": "stdout",
     "output_type": "stream",
     "text": [
      "Length of train data 72983\n",
      "Length of test data 48707\n"
     ]
    }
   ],
   "source": [
    "print(\"Length of train data \"+str(len(train_data)))\n",
    "print(\"Length of test data \"+str(len(test_data)))"
   ]
  },
  {
   "cell_type": "code",
   "execution_count": 5,
   "metadata": {},
   "outputs": [
    {
     "name": "stdout",
     "output_type": "stream",
     "text": [
      "<class 'pandas.core.frame.DataFrame'>\n",
      "RangeIndex: 72983 entries, 0 to 72982\n",
      "Data columns (total 34 columns):\n",
      " #   Column                             Non-Null Count  Dtype  \n",
      "---  ------                             --------------  -----  \n",
      " 0   RefId                              72983 non-null  int64  \n",
      " 1   IsBadBuy                           72983 non-null  int64  \n",
      " 2   PurchDate                          72983 non-null  object \n",
      " 3   Auction                            72983 non-null  object \n",
      " 4   VehYear                            72983 non-null  int64  \n",
      " 5   VehicleAge                         72983 non-null  int64  \n",
      " 6   Make                               72983 non-null  object \n",
      " 7   Model                              72983 non-null  object \n",
      " 8   Trim                               70623 non-null  object \n",
      " 9   SubModel                           72975 non-null  object \n",
      " 10  Color                              72975 non-null  object \n",
      " 11  Transmission                       72974 non-null  object \n",
      " 12  WheelTypeID                        69814 non-null  float64\n",
      " 13  WheelType                          69809 non-null  object \n",
      " 14  VehOdo                             72983 non-null  int64  \n",
      " 15  Nationality                        72978 non-null  object \n",
      " 16  Size                               72978 non-null  object \n",
      " 17  TopThreeAmericanName               72978 non-null  object \n",
      " 18  MMRAcquisitionAuctionAveragePrice  72965 non-null  float64\n",
      " 19  MMRAcquisitionAuctionCleanPrice    72965 non-null  float64\n",
      " 20  MMRAcquisitionRetailAveragePrice   72965 non-null  float64\n",
      " 21  MMRAcquisitonRetailCleanPrice      72965 non-null  float64\n",
      " 22  MMRCurrentAuctionAveragePrice      72668 non-null  float64\n",
      " 23  MMRCurrentAuctionCleanPrice        72668 non-null  float64\n",
      " 24  MMRCurrentRetailAveragePrice       72668 non-null  float64\n",
      " 25  MMRCurrentRetailCleanPrice         72668 non-null  float64\n",
      " 26  PRIMEUNIT                          3419 non-null   object \n",
      " 27  AUCGUART                           3419 non-null   object \n",
      " 28  BYRNO                              72983 non-null  int64  \n",
      " 29  VNZIP1                             72983 non-null  int64  \n",
      " 30  VNST                               72983 non-null  object \n",
      " 31  VehBCost                           72983 non-null  float64\n",
      " 32  IsOnlineSale                       72983 non-null  int64  \n",
      " 33  WarrantyCost                       72983 non-null  int64  \n",
      "dtypes: float64(10), int64(9), object(15)\n",
      "memory usage: 18.9+ MB\n"
     ]
    }
   ],
   "source": [
    "train_data.info()"
   ]
  },
  {
   "cell_type": "code",
   "execution_count": 6,
   "metadata": {},
   "outputs": [
    {
     "name": "stdout",
     "output_type": "stream",
     "text": [
      "<class 'pandas.core.frame.DataFrame'>\n",
      "RangeIndex: 48707 entries, 0 to 48706\n",
      "Data columns (total 33 columns):\n",
      " #   Column                             Non-Null Count  Dtype  \n",
      "---  ------                             --------------  -----  \n",
      " 0   RefId                              48707 non-null  int64  \n",
      " 1   PurchDate                          48707 non-null  object \n",
      " 2   Auction                            48707 non-null  object \n",
      " 3   VehYear                            48707 non-null  int64  \n",
      " 4   VehicleAge                         48707 non-null  int64  \n",
      " 5   Make                               48707 non-null  object \n",
      " 6   Model                              48707 non-null  object \n",
      " 7   Trim                               47157 non-null  object \n",
      " 8   SubModel                           48702 non-null  object \n",
      " 9   Color                              48703 non-null  object \n",
      " 10  Transmission                       48704 non-null  object \n",
      " 11  WheelTypeID                        46519 non-null  float64\n",
      " 12  WheelType                          46519 non-null  object \n",
      " 13  VehOdo                             48707 non-null  int64  \n",
      " 14  Nationality                        48700 non-null  object \n",
      " 15  Size                               48700 non-null  object \n",
      " 16  TopThreeAmericanName               48700 non-null  object \n",
      " 17  MMRAcquisitionAuctionAveragePrice  48697 non-null  float64\n",
      " 18  MMRAcquisitionAuctionCleanPrice    48697 non-null  float64\n",
      " 19  MMRAcquisitionRetailAveragePrice   48697 non-null  float64\n",
      " 20  MMRAcquisitonRetailCleanPrice      48697 non-null  float64\n",
      " 21  MMRCurrentAuctionAveragePrice      48564 non-null  float64\n",
      " 22  MMRCurrentAuctionCleanPrice        48564 non-null  float64\n",
      " 23  MMRCurrentRetailAveragePrice       48564 non-null  float64\n",
      " 24  MMRCurrentRetailCleanPrice         48564 non-null  float64\n",
      " 25  PRIMEUNIT                          2516 non-null   object \n",
      " 26  AUCGUART                           2516 non-null   object \n",
      " 27  BYRNO                              48707 non-null  int64  \n",
      " 28  VNZIP1                             48707 non-null  int64  \n",
      " 29  VNST                               48707 non-null  object \n",
      " 30  VehBCost                           48707 non-null  float64\n",
      " 31  IsOnlineSale                       48707 non-null  int64  \n",
      " 32  WarrantyCost                       48707 non-null  int64  \n",
      "dtypes: float64(10), int64(8), object(15)\n",
      "memory usage: 12.3+ MB\n"
     ]
    }
   ],
   "source": [
    "test_data.info()"
   ]
  },
  {
   "cell_type": "code",
   "execution_count": 7,
   "metadata": {},
   "outputs": [
    {
     "data": {
      "text/plain": [
       "RefId                                    0\n",
       "IsBadBuy                                 0\n",
       "PurchDate                                0\n",
       "Auction                                  0\n",
       "VehYear                                  0\n",
       "VehicleAge                               0\n",
       "Make                                     0\n",
       "Model                                    0\n",
       "Trim                                  2360\n",
       "SubModel                                 8\n",
       "Color                                    8\n",
       "Transmission                             9\n",
       "WheelTypeID                           3169\n",
       "WheelType                             3174\n",
       "VehOdo                                   0\n",
       "Nationality                              5\n",
       "Size                                     5\n",
       "TopThreeAmericanName                     5\n",
       "MMRAcquisitionAuctionAveragePrice       18\n",
       "MMRAcquisitionAuctionCleanPrice         18\n",
       "MMRAcquisitionRetailAveragePrice        18\n",
       "MMRAcquisitonRetailCleanPrice           18\n",
       "MMRCurrentAuctionAveragePrice          315\n",
       "MMRCurrentAuctionCleanPrice            315\n",
       "MMRCurrentRetailAveragePrice           315\n",
       "MMRCurrentRetailCleanPrice             315\n",
       "PRIMEUNIT                            69564\n",
       "AUCGUART                             69564\n",
       "BYRNO                                    0\n",
       "VNZIP1                                   0\n",
       "VNST                                     0\n",
       "VehBCost                                 0\n",
       "IsOnlineSale                             0\n",
       "WarrantyCost                             0\n",
       "dtype: int64"
      ]
     },
     "execution_count": 7,
     "metadata": {},
     "output_type": "execute_result"
    }
   ],
   "source": [
    "train_data.isnull().sum()"
   ]
  },
  {
   "cell_type": "code",
   "execution_count": 8,
   "metadata": {},
   "outputs": [
    {
     "data": {
      "text/plain": [
       "RefId                                    0\n",
       "PurchDate                                0\n",
       "Auction                                  0\n",
       "VehYear                                  0\n",
       "VehicleAge                               0\n",
       "Make                                     0\n",
       "Model                                    0\n",
       "Trim                                  1550\n",
       "SubModel                                 5\n",
       "Color                                    4\n",
       "Transmission                             3\n",
       "WheelTypeID                           2188\n",
       "WheelType                             2188\n",
       "VehOdo                                   0\n",
       "Nationality                              7\n",
       "Size                                     7\n",
       "TopThreeAmericanName                     7\n",
       "MMRAcquisitionAuctionAveragePrice       10\n",
       "MMRAcquisitionAuctionCleanPrice         10\n",
       "MMRAcquisitionRetailAveragePrice        10\n",
       "MMRAcquisitonRetailCleanPrice           10\n",
       "MMRCurrentAuctionAveragePrice          143\n",
       "MMRCurrentAuctionCleanPrice            143\n",
       "MMRCurrentRetailAveragePrice           143\n",
       "MMRCurrentRetailCleanPrice             143\n",
       "PRIMEUNIT                            46191\n",
       "AUCGUART                             46191\n",
       "BYRNO                                    0\n",
       "VNZIP1                                   0\n",
       "VNST                                     0\n",
       "VehBCost                                 0\n",
       "IsOnlineSale                             0\n",
       "WarrantyCost                             0\n",
       "dtype: int64"
      ]
     },
     "execution_count": 8,
     "metadata": {},
     "output_type": "execute_result"
    }
   ],
   "source": [
    "test_data.isnull().sum()"
   ]
  },
  {
   "cell_type": "code",
   "execution_count": 9,
   "metadata": {},
   "outputs": [
    {
     "data": {
      "text/plain": [
       "0    64007\n",
       "1     8976\n",
       "Name: IsBadBuy, dtype: int64"
      ]
     },
     "execution_count": 9,
     "metadata": {},
     "output_type": "execute_result"
    }
   ],
   "source": [
    "train_data['IsBadBuy'].value_counts()"
   ]
  },
  {
   "cell_type": "code",
   "execution_count": 10,
   "metadata": {},
   "outputs": [
    {
     "data": {
      "text/plain": [
       "PT CRUISER              2329\n",
       "IMPALA                  1990\n",
       "TAURUS                  1425\n",
       "CALIBER                 1375\n",
       "CARAVAN GRAND FWD V6    1289\n",
       "                        ... \n",
       "BRAVADA 2WD V6             1\n",
       "MALIBU HYBRID              1\n",
       "COMPASS 2WD 4C 2.0L        1\n",
       "I-370 PICKUP 2WD 5C        1\n",
       "INTREPID 3.5L V6 EFI       1\n",
       "Name: Model, Length: 1063, dtype: int64"
      ]
     },
     "execution_count": 10,
     "metadata": {},
     "output_type": "execute_result"
    }
   ],
   "source": [
    "train_data['Model'].value_counts()"
   ]
  },
  {
   "cell_type": "code",
   "execution_count": 11,
   "metadata": {},
   "outputs": [],
   "source": [
    "train_data.drop('Model',axis=1,inplace=True)\n",
    "test_data.drop(\"Model\",axis=1,inplace=True)"
   ]
  },
  {
   "cell_type": "code",
   "execution_count": 12,
   "metadata": {},
   "outputs": [
    {
     "data": {
      "text/plain": [
       "Bas    13950\n",
       "LS     10174\n",
       "SE      9348\n",
       "SXT     3825\n",
       "LT      3540\n",
       "       ...  \n",
       "LL         1\n",
       "L 3        1\n",
       "Ult        1\n",
       "JLS        1\n",
       "Har        1\n",
       "Name: Trim, Length: 134, dtype: int64"
      ]
     },
     "execution_count": 12,
     "metadata": {},
     "output_type": "execute_result"
    }
   ],
   "source": [
    "train_data['Trim'].value_counts()"
   ]
  },
  {
   "cell_type": "code",
   "execution_count": 13,
   "metadata": {},
   "outputs": [],
   "source": [
    "train_data.drop('Trim',inplace=True,axis=1)\n",
    "test_data.drop('Trim',inplace=True,axis=1)"
   ]
  },
  {
   "cell_type": "code",
   "execution_count": 14,
   "metadata": {},
   "outputs": [
    {
     "data": {
      "text/plain": [
       "4D SEDAN                       15236\n",
       "4D SEDAN LS                     4718\n",
       "4D SEDAN SE                     3859\n",
       "4D WAGON                        2230\n",
       "MINIVAN 3.3L                    1258\n",
       "                               ...  \n",
       "4D SPORT UTILITY JLX               1\n",
       "4D SPORT UTILITY EX AUTO           1\n",
       "EXT CAB 4D 5.9L LARAMIE SLT        1\n",
       "2D HATCHBACK GT                    1\n",
       "REG CAB 2.5L XLT                   1\n",
       "Name: SubModel, Length: 863, dtype: int64"
      ]
     },
     "execution_count": 14,
     "metadata": {},
     "output_type": "execute_result"
    }
   ],
   "source": [
    "train_data['SubModel'].value_counts()"
   ]
  },
  {
   "cell_type": "code",
   "execution_count": 15,
   "metadata": {},
   "outputs": [],
   "source": [
    "train_data.drop('SubModel',inplace=True,axis=1)\n",
    "test_data.drop('SubModel',inplace=True,axis=1)"
   ]
  },
  {
   "cell_type": "code",
   "execution_count": 16,
   "metadata": {},
   "outputs": [
    {
     "data": {
      "text/plain": [
       "SILVER       14875\n",
       "WHITE        12123\n",
       "BLUE         10347\n",
       "GREY          7887\n",
       "BLACK         7627\n",
       "RED           6257\n",
       "GOLD          5231\n",
       "GREEN         3194\n",
       "MAROON        2046\n",
       "BEIGE         1584\n",
       "BROWN          436\n",
       "ORANGE         415\n",
       "PURPLE         373\n",
       "YELLOW         244\n",
       "OTHER          242\n",
       "NOT AVAIL       94\n",
       "Name: Color, dtype: int64"
      ]
     },
     "execution_count": 16,
     "metadata": {},
     "output_type": "execute_result"
    }
   ],
   "source": [
    "train_data['Color'].value_counts()"
   ]
  },
  {
   "cell_type": "code",
   "execution_count": 17,
   "metadata": {},
   "outputs": [
    {
     "data": {
      "text/plain": [
       "SILVER       10083\n",
       "WHITE         8054\n",
       "BLUE          6839\n",
       "BLACK         5177\n",
       "GREY          5077\n",
       "RED           4166\n",
       "GOLD          3401\n",
       "GREEN         2318\n",
       "MAROON        1308\n",
       "BEIGE         1070\n",
       "PURPLE         295\n",
       "BROWN          278\n",
       "ORANGE         238\n",
       "YELLOW         181\n",
       "OTHER          128\n",
       "NOT AVAIL       89\n",
       "PINK             1\n",
       "Name: Color, dtype: int64"
      ]
     },
     "execution_count": 17,
     "metadata": {},
     "output_type": "execute_result"
    }
   ],
   "source": [
    "test_data['Color'].value_counts()"
   ]
  },
  {
   "cell_type": "code",
   "execution_count": 18,
   "metadata": {},
   "outputs": [],
   "source": [
    "train_data['Color'].fillna(value='Color_Unknown',inplace=True)\n",
    "test_data['Color'].fillna(value='Color_Unknown',inplace=True)"
   ]
  },
  {
   "cell_type": "code",
   "execution_count": 19,
   "metadata": {},
   "outputs": [
    {
     "name": "stdout",
     "output_type": "stream",
     "text": [
      "Number of null values in Color column 0\n",
      "Number of null values in Color column 0\n"
     ]
    }
   ],
   "source": [
    "print(\"Number of null values in Color column \"+str(train_data['Color'].isnull().sum()))\n",
    "print(\"Number of null values in Color column \"+str(test_data['Color'].isnull().sum()))"
   ]
  },
  {
   "cell_type": "code",
   "execution_count": 20,
   "metadata": {},
   "outputs": [
    {
     "data": {
      "text/plain": [
       "AUTO      70398\n",
       "MANUAL     2575\n",
       "Manual        1\n",
       "Name: Transmission, dtype: int64"
      ]
     },
     "execution_count": 20,
     "metadata": {},
     "output_type": "execute_result"
    }
   ],
   "source": [
    "train_data['Transmission'].value_counts()"
   ]
  },
  {
   "cell_type": "code",
   "execution_count": 21,
   "metadata": {},
   "outputs": [
    {
     "data": {
      "text/plain": [
       "AUTO      47010\n",
       "MANUAL     1694\n",
       "Name: Transmission, dtype: int64"
      ]
     },
     "execution_count": 21,
     "metadata": {},
     "output_type": "execute_result"
    }
   ],
   "source": [
    "test_data['Transmission'].value_counts()"
   ]
  },
  {
   "cell_type": "code",
   "execution_count": 22,
   "metadata": {},
   "outputs": [
    {
     "data": {
      "text/html": [
       "<div>\n",
       "<style scoped>\n",
       "    .dataframe tbody tr th:only-of-type {\n",
       "        vertical-align: middle;\n",
       "    }\n",
       "\n",
       "    .dataframe tbody tr th {\n",
       "        vertical-align: top;\n",
       "    }\n",
       "\n",
       "    .dataframe thead th {\n",
       "        text-align: right;\n",
       "    }\n",
       "</style>\n",
       "<table border=\"1\" class=\"dataframe\">\n",
       "  <thead>\n",
       "    <tr style=\"text-align: right;\">\n",
       "      <th></th>\n",
       "      <th>RefId</th>\n",
       "      <th>IsBadBuy</th>\n",
       "      <th>PurchDate</th>\n",
       "      <th>Auction</th>\n",
       "      <th>VehYear</th>\n",
       "      <th>VehicleAge</th>\n",
       "      <th>Make</th>\n",
       "      <th>Color</th>\n",
       "      <th>Transmission</th>\n",
       "      <th>WheelTypeID</th>\n",
       "      <th>...</th>\n",
       "      <th>MMRCurrentRetailAveragePrice</th>\n",
       "      <th>MMRCurrentRetailCleanPrice</th>\n",
       "      <th>PRIMEUNIT</th>\n",
       "      <th>AUCGUART</th>\n",
       "      <th>BYRNO</th>\n",
       "      <th>VNZIP1</th>\n",
       "      <th>VNST</th>\n",
       "      <th>VehBCost</th>\n",
       "      <th>IsOnlineSale</th>\n",
       "      <th>WarrantyCost</th>\n",
       "    </tr>\n",
       "  </thead>\n",
       "  <tbody>\n",
       "    <tr>\n",
       "      <th>33096</th>\n",
       "      <td>33118</td>\n",
       "      <td>0</td>\n",
       "      <td>12/9/2009</td>\n",
       "      <td>OTHER</td>\n",
       "      <td>2006</td>\n",
       "      <td>3</td>\n",
       "      <td>HYUNDAI</td>\n",
       "      <td>SILVER</td>\n",
       "      <td>Manual</td>\n",
       "      <td>1.0</td>\n",
       "      <td>...</td>\n",
       "      <td>8331.0</td>\n",
       "      <td>9199.0</td>\n",
       "      <td>NaN</td>\n",
       "      <td>NaN</td>\n",
       "      <td>18880</td>\n",
       "      <td>32750</td>\n",
       "      <td>FL</td>\n",
       "      <td>3800.0</td>\n",
       "      <td>0</td>\n",
       "      <td>569</td>\n",
       "    </tr>\n",
       "  </tbody>\n",
       "</table>\n",
       "<p>1 rows × 31 columns</p>\n",
       "</div>"
      ],
      "text/plain": [
       "       RefId  IsBadBuy  PurchDate Auction  VehYear  VehicleAge     Make  \\\n",
       "33096  33118         0  12/9/2009   OTHER     2006           3  HYUNDAI   \n",
       "\n",
       "        Color Transmission  WheelTypeID  ... MMRCurrentRetailAveragePrice  \\\n",
       "33096  SILVER       Manual          1.0  ...                       8331.0   \n",
       "\n",
       "       MMRCurrentRetailCleanPrice PRIMEUNIT AUCGUART  BYRNO  VNZIP1  VNST  \\\n",
       "33096                      9199.0       NaN      NaN  18880   32750    FL   \n",
       "\n",
       "       VehBCost  IsOnlineSale  WarrantyCost  \n",
       "33096    3800.0             0           569  \n",
       "\n",
       "[1 rows x 31 columns]"
      ]
     },
     "execution_count": 22,
     "metadata": {},
     "output_type": "execute_result"
    }
   ],
   "source": [
    "train_data[train_data['Transmission']=='Manual']"
   ]
  },
  {
   "cell_type": "code",
   "execution_count": 23,
   "metadata": {},
   "outputs": [],
   "source": [
    "train_data['Transmission'].replace(\"Manual\",\"MANUAL\",inplace=True)"
   ]
  },
  {
   "cell_type": "code",
   "execution_count": 24,
   "metadata": {},
   "outputs": [
    {
     "data": {
      "text/plain": [
       "AUTO      70398\n",
       "MANUAL     2576\n",
       "Name: Transmission, dtype: int64"
      ]
     },
     "execution_count": 24,
     "metadata": {},
     "output_type": "execute_result"
    }
   ],
   "source": [
    "train_data['Transmission'].value_counts()"
   ]
  },
  {
   "cell_type": "code",
   "execution_count": 25,
   "metadata": {},
   "outputs": [],
   "source": [
    "train_data['Transmission'].fillna(value=\"Transmission_unk\",inplace=True)\n",
    "test_data['Transmission'].fillna(value=\"Transmission_unk\",inplace=True)"
   ]
  },
  {
   "cell_type": "code",
   "execution_count": 26,
   "metadata": {},
   "outputs": [
    {
     "data": {
      "text/plain": [
       "1.0    36050\n",
       "2.0    33004\n",
       "3.0      755\n",
       "0.0        5\n",
       "Name: WheelTypeID, dtype: int64"
      ]
     },
     "execution_count": 26,
     "metadata": {},
     "output_type": "execute_result"
    }
   ],
   "source": [
    "train_data['WheelTypeID'].value_counts()"
   ]
  },
  {
   "cell_type": "code",
   "execution_count": 27,
   "metadata": {},
   "outputs": [],
   "source": [
    "train_data.drop('WheelTypeID',inplace=True,axis=1)\n",
    "test_data.drop('WheelTypeID',inplace=True,axis=1)"
   ]
  },
  {
   "cell_type": "code",
   "execution_count": 28,
   "metadata": {},
   "outputs": [
    {
     "data": {
      "text/plain": [
       "Alloy      36050\n",
       "Covers     33004\n",
       "Special      755\n",
       "Name: WheelType, dtype: int64"
      ]
     },
     "execution_count": 28,
     "metadata": {},
     "output_type": "execute_result"
    }
   ],
   "source": [
    "train_data['WheelType'].value_counts()"
   ]
  },
  {
   "cell_type": "code",
   "execution_count": 29,
   "metadata": {},
   "outputs": [
    {
     "data": {
      "text/plain": [
       "Alloy      25443\n",
       "Covers     20651\n",
       "Special      425\n",
       "Name: WheelType, dtype: int64"
      ]
     },
     "execution_count": 29,
     "metadata": {},
     "output_type": "execute_result"
    }
   ],
   "source": [
    "test_data['WheelType'].value_counts()"
   ]
  },
  {
   "cell_type": "code",
   "execution_count": 30,
   "metadata": {},
   "outputs": [],
   "source": [
    "train_data['WheelType'].fillna(value='WheelType_unk',inplace=True)\n",
    "test_data['WheelType'].fillna(value='WheelType_unk',inplace=True)"
   ]
  },
  {
   "cell_type": "code",
   "execution_count": 31,
   "metadata": {},
   "outputs": [
    {
     "data": {
      "text/plain": [
       "Alloy            36050\n",
       "Covers           33004\n",
       "WheelType_unk     3174\n",
       "Special            755\n",
       "Name: WheelType, dtype: int64"
      ]
     },
     "execution_count": 31,
     "metadata": {},
     "output_type": "execute_result"
    }
   ],
   "source": [
    "train_data['WheelType'].value_counts()"
   ]
  },
  {
   "cell_type": "code",
   "execution_count": 32,
   "metadata": {},
   "outputs": [
    {
     "data": {
      "text/plain": [
       "AMERICAN          61028\n",
       "OTHER ASIAN        8033\n",
       "TOP LINE ASIAN     3722\n",
       "OTHER               195\n",
       "Name: Nationality, dtype: int64"
      ]
     },
     "execution_count": 32,
     "metadata": {},
     "output_type": "execute_result"
    }
   ],
   "source": [
    "train_data['Nationality'].value_counts()"
   ]
  },
  {
   "cell_type": "code",
   "execution_count": 33,
   "metadata": {},
   "outputs": [
    {
     "data": {
      "text/plain": [
       "AMERICAN          40413\n",
       "OTHER ASIAN        5838\n",
       "TOP LINE ASIAN     2326\n",
       "OTHER               123\n",
       "Name: Nationality, dtype: int64"
      ]
     },
     "execution_count": 33,
     "metadata": {},
     "output_type": "execute_result"
    }
   ],
   "source": [
    "test_data['Nationality'].value_counts()"
   ]
  },
  {
   "cell_type": "code",
   "execution_count": 34,
   "metadata": {},
   "outputs": [],
   "source": [
    "train_data['Nationality'].fillna(value='Nationality_unk',inplace=True)\n",
    "test_data['Nationality'].fillna(value='Nationality_unk',inplace=True)"
   ]
  },
  {
   "cell_type": "code",
   "execution_count": 35,
   "metadata": {},
   "outputs": [
    {
     "data": {
      "text/plain": [
       "MEDIUM         30785\n",
       "LARGE           8850\n",
       "MEDIUM SUV      8090\n",
       "COMPACT         7205\n",
       "VAN             5854\n",
       "LARGE TRUCK     3170\n",
       "SMALL SUV       2276\n",
       "SPECIALTY       1915\n",
       "CROSSOVER       1759\n",
       "LARGE SUV       1433\n",
       "SMALL TRUCK      864\n",
       "SPORTS           777\n",
       "Name: Size, dtype: int64"
      ]
     },
     "execution_count": 35,
     "metadata": {},
     "output_type": "execute_result"
    }
   ],
   "source": [
    "train_data['Size'].value_counts()"
   ]
  },
  {
   "cell_type": "code",
   "execution_count": 36,
   "metadata": {},
   "outputs": [
    {
     "data": {
      "text/plain": [
       "MEDIUM         20361\n",
       "LARGE           5711\n",
       "MEDIUM SUV      5453\n",
       "COMPACT         4881\n",
       "VAN             4042\n",
       "LARGE TRUCK     2069\n",
       "SMALL SUV       1575\n",
       "SPECIALTY       1446\n",
       "CROSSOVER       1286\n",
       "LARGE SUV        868\n",
       "SPORTS           516\n",
       "SMALL TRUCK      492\n",
       "Name: Size, dtype: int64"
      ]
     },
     "execution_count": 36,
     "metadata": {},
     "output_type": "execute_result"
    }
   ],
   "source": [
    "test_data['Size'].value_counts()"
   ]
  },
  {
   "cell_type": "code",
   "execution_count": 37,
   "metadata": {},
   "outputs": [],
   "source": [
    "train_data['Size'].fillna(value='Size_unk',inplace=True)\n",
    "test_data['Size'].fillna(value=\"Size_unk\",inplace=True)"
   ]
  },
  {
   "cell_type": "code",
   "execution_count": 38,
   "metadata": {},
   "outputs": [
    {
     "data": {
      "text/plain": [
       "GM          25314\n",
       "CHRYSLER    23399\n",
       "FORD        12315\n",
       "OTHER       11950\n",
       "Name: TopThreeAmericanName, dtype: int64"
      ]
     },
     "execution_count": 38,
     "metadata": {},
     "output_type": "execute_result"
    }
   ],
   "source": [
    "train_data['TopThreeAmericanName'].value_counts()"
   ]
  },
  {
   "cell_type": "code",
   "execution_count": 39,
   "metadata": {},
   "outputs": [
    {
     "data": {
      "text/plain": [
       "GM          16957\n",
       "CHRYSLER    15329\n",
       "OTHER        8287\n",
       "FORD         8127\n",
       "Name: TopThreeAmericanName, dtype: int64"
      ]
     },
     "execution_count": 39,
     "metadata": {},
     "output_type": "execute_result"
    }
   ],
   "source": [
    "test_data['TopThreeAmericanName'].value_counts()"
   ]
  },
  {
   "cell_type": "code",
   "execution_count": 40,
   "metadata": {},
   "outputs": [],
   "source": [
    "train_data['TopThreeAmericanName'].fillna(value='Top_unk',inplace=True)\n",
    "test_data['TopThreeAmericanName'].fillna(value='Top_unk',inplace=True)"
   ]
  },
  {
   "cell_type": "code",
   "execution_count": 41,
   "metadata": {},
   "outputs": [
    {
     "data": {
      "text/plain": [
       "NO     3357\n",
       "YES      62\n",
       "Name: PRIMEUNIT, dtype: int64"
      ]
     },
     "execution_count": 41,
     "metadata": {},
     "output_type": "execute_result"
    }
   ],
   "source": [
    "train_data['PRIMEUNIT'].value_counts()"
   ]
  },
  {
   "cell_type": "code",
   "execution_count": 42,
   "metadata": {},
   "outputs": [
    {
     "data": {
      "text/plain": [
       "NO     2468\n",
       "YES      48\n",
       "Name: PRIMEUNIT, dtype: int64"
      ]
     },
     "execution_count": 42,
     "metadata": {},
     "output_type": "execute_result"
    }
   ],
   "source": [
    "test_data['PRIMEUNIT'].value_counts()"
   ]
  },
  {
   "cell_type": "code",
   "execution_count": 43,
   "metadata": {},
   "outputs": [],
   "source": [
    "train_data['PRIMEUNIT'].fillna(value=\"Prime_unk\",inplace=True)\n",
    "test_data['PRIMEUNIT'].fillna(value=\"Prime_unk\",inplace=True)"
   ]
  },
  {
   "cell_type": "code",
   "execution_count": 44,
   "metadata": {},
   "outputs": [],
   "source": [
    "train_data['AUCGUART'].replace(\"AGREEN\",\"GREEN\",inplace=True)\n",
    "test_data['AUCGUART'].replace(\"ARED\",\"RED\",inplace=True)"
   ]
  },
  {
   "cell_type": "code",
   "execution_count": 45,
   "metadata": {},
   "outputs": [],
   "source": [
    "train_data['AUCGUART'].fillna(value=\"AUC_unk\",inplace=True)\n",
    "test_data['AUCGUART'].fillna(value=\"AUC_unk\",inplace=True)"
   ]
  },
  {
   "cell_type": "code",
   "execution_count": 46,
   "metadata": {},
   "outputs": [],
   "source": [
    "train_data.drop(['MMRAcquisitionAuctionAveragePrice','MMRAcquisitionAuctionCleanPrice',\n",
    "                'MMRAcquisitionRetailAveragePrice','MMRAcquisitonRetailCleanPrice',\n",
    "                'MMRCurrentAuctionAveragePrice','MMRCurrentAuctionCleanPrice',\n",
    "                'MMRCurrentRetailAveragePrice','MMRCurrentRetailCleanPrice'],\n",
    "               inplace=True,axis=1)\n",
    "test_data.drop(['MMRAcquisitionAuctionAveragePrice','MMRAcquisitionAuctionCleanPrice',\n",
    "                'MMRAcquisitionRetailAveragePrice','MMRAcquisitonRetailCleanPrice',\n",
    "                'MMRCurrentAuctionAveragePrice','MMRCurrentAuctionCleanPrice',\n",
    "                'MMRCurrentRetailAveragePrice','MMRCurrentRetailCleanPrice'],\n",
    "               inplace=True,axis=1)"
   ]
  },
  {
   "cell_type": "code",
   "execution_count": 47,
   "metadata": {},
   "outputs": [],
   "source": [
    "train_data.drop('PurchDate',axis=1,inplace=True)\n",
    "test_data.drop(\"PurchDate\",axis=1,inplace=True)"
   ]
  },
  {
   "cell_type": "code",
   "execution_count": 48,
   "metadata": {},
   "outputs": [
    {
     "data": {
      "text/plain": [
       "(72983, 21)"
      ]
     },
     "execution_count": 48,
     "metadata": {},
     "output_type": "execute_result"
    }
   ],
   "source": [
    "train_data.shape"
   ]
  },
  {
   "cell_type": "code",
   "execution_count": 49,
   "metadata": {},
   "outputs": [
    {
     "data": {
      "text/plain": [
       "(48707, 20)"
      ]
     },
     "execution_count": 49,
     "metadata": {},
     "output_type": "execute_result"
    }
   ],
   "source": [
    "test_data.shape"
   ]
  },
  {
   "cell_type": "code",
   "execution_count": 50,
   "metadata": {},
   "outputs": [
    {
     "data": {
      "text/plain": [
       "RefId                     int64\n",
       "IsBadBuy                  int64\n",
       "Auction                  object\n",
       "VehYear                   int64\n",
       "VehicleAge                int64\n",
       "Make                     object\n",
       "Color                    object\n",
       "Transmission             object\n",
       "WheelType                object\n",
       "VehOdo                    int64\n",
       "Nationality              object\n",
       "Size                     object\n",
       "TopThreeAmericanName     object\n",
       "PRIMEUNIT                object\n",
       "AUCGUART                 object\n",
       "BYRNO                     int64\n",
       "VNZIP1                    int64\n",
       "VNST                     object\n",
       "VehBCost                float64\n",
       "IsOnlineSale              int64\n",
       "WarrantyCost              int64\n",
       "dtype: object"
      ]
     },
     "execution_count": 50,
     "metadata": {},
     "output_type": "execute_result"
    }
   ],
   "source": [
    "train_data.dtypes"
   ]
  },
  {
   "cell_type": "code",
   "execution_count": 51,
   "metadata": {},
   "outputs": [
    {
     "data": {
      "text/plain": [
       "Index(['RefId', 'IsBadBuy', 'Auction', 'VehYear', 'VehicleAge', 'Make',\n",
       "       'Color', 'Transmission', 'WheelType', 'VehOdo', 'Nationality', 'Size',\n",
       "       'TopThreeAmericanName', 'PRIMEUNIT', 'AUCGUART', 'BYRNO', 'VNZIP1',\n",
       "       'VNST', 'VehBCost', 'IsOnlineSale', 'WarrantyCost'],\n",
       "      dtype='object')"
      ]
     },
     "execution_count": 51,
     "metadata": {},
     "output_type": "execute_result"
    }
   ],
   "source": [
    "train_data.columns"
   ]
  },
  {
   "cell_type": "code",
   "execution_count": 52,
   "metadata": {},
   "outputs": [
    {
     "data": {
      "text/plain": [
       "Auction                 False\n",
       "VehYear                  True\n",
       "VehicleAge               True\n",
       "Make                    False\n",
       "Color                   False\n",
       "Transmission            False\n",
       "WheelType               False\n",
       "VehOdo                   True\n",
       "Nationality             False\n",
       "Size                    False\n",
       "TopThreeAmericanName    False\n",
       "PRIMEUNIT               False\n",
       "AUCGUART                False\n",
       "BYRNO                    True\n",
       "VNZIP1                   True\n",
       "VNST                    False\n",
       "VehBCost                 True\n",
       "IsOnlineSale             True\n",
       "WarrantyCost             True\n",
       "dtype: bool"
      ]
     },
     "execution_count": 52,
     "metadata": {},
     "output_type": "execute_result"
    }
   ],
   "source": [
    "train_data.drop(['RefId','IsBadBuy'],axis=1).dtypes!='object'"
   ]
  },
  {
   "cell_type": "code",
   "execution_count": 53,
   "metadata": {},
   "outputs": [],
   "source": [
    "not_categorical=train_data.drop(['RefId','IsBadBuy'],axis=1).columns[train_data.drop(['RefId','IsBadBuy'],axis=1).dtypes!='object']"
   ]
  },
  {
   "cell_type": "code",
   "execution_count": 54,
   "metadata": {},
   "outputs": [],
   "source": [
    "for i in not_categorical:\n",
    "    maximum=np.max(train_data[i])\n",
    "    train_data[i]=train_data[i]/maximum\n",
    "    maximum_test=np.max(test_data[i])\n",
    "    test_data[i]=test_data[i]/maximum_test"
   ]
  },
  {
   "cell_type": "code",
   "execution_count": 55,
   "metadata": {},
   "outputs": [
    {
     "data": {
      "text/html": [
       "<div>\n",
       "<style scoped>\n",
       "    .dataframe tbody tr th:only-of-type {\n",
       "        vertical-align: middle;\n",
       "    }\n",
       "\n",
       "    .dataframe tbody tr th {\n",
       "        vertical-align: top;\n",
       "    }\n",
       "\n",
       "    .dataframe thead th {\n",
       "        text-align: right;\n",
       "    }\n",
       "</style>\n",
       "<table border=\"1\" class=\"dataframe\">\n",
       "  <thead>\n",
       "    <tr style=\"text-align: right;\">\n",
       "      <th></th>\n",
       "      <th>VehYear</th>\n",
       "      <th>VehicleAge</th>\n",
       "      <th>VehOdo</th>\n",
       "      <th>BYRNO</th>\n",
       "      <th>VNZIP1</th>\n",
       "      <th>VehBCost</th>\n",
       "      <th>IsOnlineSale</th>\n",
       "      <th>WarrantyCost</th>\n",
       "    </tr>\n",
       "  </thead>\n",
       "  <tbody>\n",
       "    <tr>\n",
       "      <th>0</th>\n",
       "      <td>0.998010</td>\n",
       "      <td>0.333333</td>\n",
       "      <td>0.769515</td>\n",
       "      <td>0.220256</td>\n",
       "      <td>0.338819</td>\n",
       "      <td>0.156150</td>\n",
       "      <td>0.0</td>\n",
       "      <td>0.148440</td>\n",
       "    </tr>\n",
       "    <tr>\n",
       "      <th>1</th>\n",
       "      <td>0.997015</td>\n",
       "      <td>0.555556</td>\n",
       "      <td>0.808809</td>\n",
       "      <td>0.196850</td>\n",
       "      <td>0.338819</td>\n",
       "      <td>0.167147</td>\n",
       "      <td>0.0</td>\n",
       "      <td>0.140437</td>\n",
       "    </tr>\n",
       "    <tr>\n",
       "      <th>2</th>\n",
       "      <td>0.997512</td>\n",
       "      <td>0.444444</td>\n",
       "      <td>0.637823</td>\n",
       "      <td>0.196850</td>\n",
       "      <td>0.338819</td>\n",
       "      <td>0.107766</td>\n",
       "      <td>0.0</td>\n",
       "      <td>0.185249</td>\n",
       "    </tr>\n",
       "    <tr>\n",
       "      <th>3</th>\n",
       "      <td>0.997015</td>\n",
       "      <td>0.555556</td>\n",
       "      <td>0.567047</td>\n",
       "      <td>0.196850</td>\n",
       "      <td>0.338819</td>\n",
       "      <td>0.090171</td>\n",
       "      <td>0.0</td>\n",
       "      <td>0.084022</td>\n",
       "    </tr>\n",
       "    <tr>\n",
       "      <th>4</th>\n",
       "      <td>0.997512</td>\n",
       "      <td>0.444444</td>\n",
       "      <td>0.599454</td>\n",
       "      <td>0.196850</td>\n",
       "      <td>0.338819</td>\n",
       "      <td>0.087972</td>\n",
       "      <td>0.0</td>\n",
       "      <td>0.136036</td>\n",
       "    </tr>\n",
       "  </tbody>\n",
       "</table>\n",
       "</div>"
      ],
      "text/plain": [
       "    VehYear  VehicleAge    VehOdo     BYRNO    VNZIP1  VehBCost  IsOnlineSale  \\\n",
       "0  0.998010    0.333333  0.769515  0.220256  0.338819  0.156150           0.0   \n",
       "1  0.997015    0.555556  0.808809  0.196850  0.338819  0.167147           0.0   \n",
       "2  0.997512    0.444444  0.637823  0.196850  0.338819  0.107766           0.0   \n",
       "3  0.997015    0.555556  0.567047  0.196850  0.338819  0.090171           0.0   \n",
       "4  0.997512    0.444444  0.599454  0.196850  0.338819  0.087972           0.0   \n",
       "\n",
       "   WarrantyCost  \n",
       "0      0.148440  \n",
       "1      0.140437  \n",
       "2      0.185249  \n",
       "3      0.084022  \n",
       "4      0.136036  "
      ]
     },
     "execution_count": 55,
     "metadata": {},
     "output_type": "execute_result"
    }
   ],
   "source": [
    "train_data[not_categorical].head()"
   ]
  },
  {
   "cell_type": "code",
   "execution_count": 56,
   "metadata": {},
   "outputs": [
    {
     "data": {
      "text/html": [
       "<div>\n",
       "<style scoped>\n",
       "    .dataframe tbody tr th:only-of-type {\n",
       "        vertical-align: middle;\n",
       "    }\n",
       "\n",
       "    .dataframe tbody tr th {\n",
       "        vertical-align: top;\n",
       "    }\n",
       "\n",
       "    .dataframe thead th {\n",
       "        text-align: right;\n",
       "    }\n",
       "</style>\n",
       "<table border=\"1\" class=\"dataframe\">\n",
       "  <thead>\n",
       "    <tr style=\"text-align: right;\">\n",
       "      <th></th>\n",
       "      <th>VehYear</th>\n",
       "      <th>VehicleAge</th>\n",
       "      <th>VehOdo</th>\n",
       "      <th>BYRNO</th>\n",
       "      <th>VNZIP1</th>\n",
       "      <th>VehBCost</th>\n",
       "      <th>IsOnlineSale</th>\n",
       "      <th>WarrantyCost</th>\n",
       "    </tr>\n",
       "  </thead>\n",
       "  <tbody>\n",
       "    <tr>\n",
       "      <th>0</th>\n",
       "      <td>0.997512</td>\n",
       "      <td>0.444444</td>\n",
       "      <td>0.743793</td>\n",
       "      <td>0.189205</td>\n",
       "      <td>0.308085</td>\n",
       "      <td>0.114135</td>\n",
       "      <td>0.0</td>\n",
       "      <td>0.287010</td>\n",
       "    </tr>\n",
       "    <tr>\n",
       "      <th>1</th>\n",
       "      <td>0.997512</td>\n",
       "      <td>0.444444</td>\n",
       "      <td>0.539029</td>\n",
       "      <td>0.181489</td>\n",
       "      <td>0.308085</td>\n",
       "      <td>0.110623</td>\n",
       "      <td>0.0</td>\n",
       "      <td>0.149106</td>\n",
       "    </tr>\n",
       "    <tr>\n",
       "      <th>2</th>\n",
       "      <td>0.998010</td>\n",
       "      <td>0.333333</td>\n",
       "      <td>0.603584</td>\n",
       "      <td>0.181489</td>\n",
       "      <td>0.308085</td>\n",
       "      <td>0.170325</td>\n",
       "      <td>0.0</td>\n",
       "      <td>0.162043</td>\n",
       "    </tr>\n",
       "    <tr>\n",
       "      <th>3</th>\n",
       "      <td>0.996020</td>\n",
       "      <td>0.777778</td>\n",
       "      <td>0.765677</td>\n",
       "      <td>0.189205</td>\n",
       "      <td>0.308085</td>\n",
       "      <td>0.072871</td>\n",
       "      <td>0.0</td>\n",
       "      <td>0.257802</td>\n",
       "    </tr>\n",
       "    <tr>\n",
       "      <th>4</th>\n",
       "      <td>0.998507</td>\n",
       "      <td>0.222222</td>\n",
       "      <td>0.639730</td>\n",
       "      <td>0.181489</td>\n",
       "      <td>0.308085</td>\n",
       "      <td>0.071993</td>\n",
       "      <td>0.0</td>\n",
       "      <td>0.122699</td>\n",
       "    </tr>\n",
       "  </tbody>\n",
       "</table>\n",
       "</div>"
      ],
      "text/plain": [
       "    VehYear  VehicleAge    VehOdo     BYRNO    VNZIP1  VehBCost  IsOnlineSale  \\\n",
       "0  0.997512    0.444444  0.743793  0.189205  0.308085  0.114135           0.0   \n",
       "1  0.997512    0.444444  0.539029  0.181489  0.308085  0.110623           0.0   \n",
       "2  0.998010    0.333333  0.603584  0.181489  0.308085  0.170325           0.0   \n",
       "3  0.996020    0.777778  0.765677  0.189205  0.308085  0.072871           0.0   \n",
       "4  0.998507    0.222222  0.639730  0.181489  0.308085  0.071993           0.0   \n",
       "\n",
       "   WarrantyCost  \n",
       "0      0.287010  \n",
       "1      0.149106  \n",
       "2      0.162043  \n",
       "3      0.257802  \n",
       "4      0.122699  "
      ]
     },
     "execution_count": 56,
     "metadata": {},
     "output_type": "execute_result"
    }
   ],
   "source": [
    "test_data[not_categorical].head()"
   ]
  },
  {
   "cell_type": "code",
   "execution_count": 57,
   "metadata": {},
   "outputs": [],
   "source": [
    "categorical=train_data.drop(['RefId','IsBadBuy'],axis=1).columns[train_data.drop(['RefId','IsBadBuy'],axis=1).dtypes=='object']"
   ]
  },
  {
   "cell_type": "code",
   "execution_count": 58,
   "metadata": {},
   "outputs": [
    {
     "data": {
      "text/plain": [
       "Index(['Auction', 'Make', 'Color', 'Transmission', 'WheelType', 'Nationality',\n",
       "       'Size', 'TopThreeAmericanName', 'PRIMEUNIT', 'AUCGUART', 'VNST'],\n",
       "      dtype='object')"
      ]
     },
     "execution_count": 58,
     "metadata": {},
     "output_type": "execute_result"
    }
   ],
   "source": [
    "categorical"
   ]
  },
  {
   "cell_type": "code",
   "execution_count": 59,
   "metadata": {},
   "outputs": [
    {
     "data": {
      "text/plain": [
       "0        ADESA\n",
       "1        ADESA\n",
       "2        ADESA\n",
       "3        ADESA\n",
       "4        ADESA\n",
       "         ...  \n",
       "72978    ADESA\n",
       "72979    ADESA\n",
       "72980    ADESA\n",
       "72981    ADESA\n",
       "72982    ADESA\n",
       "Name: Auction, Length: 72983, dtype: object"
      ]
     },
     "execution_count": 59,
     "metadata": {},
     "output_type": "execute_result"
    }
   ],
   "source": [
    "train_data[categorical[0]]"
   ]
  },
  {
   "cell_type": "code",
   "execution_count": 60,
   "metadata": {},
   "outputs": [
    {
     "data": {
      "text/html": [
       "<div>\n",
       "<style scoped>\n",
       "    .dataframe tbody tr th:only-of-type {\n",
       "        vertical-align: middle;\n",
       "    }\n",
       "\n",
       "    .dataframe tbody tr th {\n",
       "        vertical-align: top;\n",
       "    }\n",
       "\n",
       "    .dataframe thead th {\n",
       "        text-align: right;\n",
       "    }\n",
       "</style>\n",
       "<table border=\"1\" class=\"dataframe\">\n",
       "  <thead>\n",
       "    <tr style=\"text-align: right;\">\n",
       "      <th></th>\n",
       "      <th>ADESA</th>\n",
       "      <th>MANHEIM</th>\n",
       "      <th>OTHER</th>\n",
       "    </tr>\n",
       "  </thead>\n",
       "  <tbody>\n",
       "    <tr>\n",
       "      <th>0</th>\n",
       "      <td>1</td>\n",
       "      <td>0</td>\n",
       "      <td>0</td>\n",
       "    </tr>\n",
       "    <tr>\n",
       "      <th>1</th>\n",
       "      <td>1</td>\n",
       "      <td>0</td>\n",
       "      <td>0</td>\n",
       "    </tr>\n",
       "    <tr>\n",
       "      <th>2</th>\n",
       "      <td>1</td>\n",
       "      <td>0</td>\n",
       "      <td>0</td>\n",
       "    </tr>\n",
       "    <tr>\n",
       "      <th>3</th>\n",
       "      <td>1</td>\n",
       "      <td>0</td>\n",
       "      <td>0</td>\n",
       "    </tr>\n",
       "    <tr>\n",
       "      <th>4</th>\n",
       "      <td>1</td>\n",
       "      <td>0</td>\n",
       "      <td>0</td>\n",
       "    </tr>\n",
       "    <tr>\n",
       "      <th>...</th>\n",
       "      <td>...</td>\n",
       "      <td>...</td>\n",
       "      <td>...</td>\n",
       "    </tr>\n",
       "    <tr>\n",
       "      <th>72978</th>\n",
       "      <td>1</td>\n",
       "      <td>0</td>\n",
       "      <td>0</td>\n",
       "    </tr>\n",
       "    <tr>\n",
       "      <th>72979</th>\n",
       "      <td>1</td>\n",
       "      <td>0</td>\n",
       "      <td>0</td>\n",
       "    </tr>\n",
       "    <tr>\n",
       "      <th>72980</th>\n",
       "      <td>1</td>\n",
       "      <td>0</td>\n",
       "      <td>0</td>\n",
       "    </tr>\n",
       "    <tr>\n",
       "      <th>72981</th>\n",
       "      <td>1</td>\n",
       "      <td>0</td>\n",
       "      <td>0</td>\n",
       "    </tr>\n",
       "    <tr>\n",
       "      <th>72982</th>\n",
       "      <td>1</td>\n",
       "      <td>0</td>\n",
       "      <td>0</td>\n",
       "    </tr>\n",
       "  </tbody>\n",
       "</table>\n",
       "<p>72983 rows × 3 columns</p>\n",
       "</div>"
      ],
      "text/plain": [
       "       ADESA  MANHEIM  OTHER\n",
       "0          1        0      0\n",
       "1          1        0      0\n",
       "2          1        0      0\n",
       "3          1        0      0\n",
       "4          1        0      0\n",
       "...      ...      ...    ...\n",
       "72978      1        0      0\n",
       "72979      1        0      0\n",
       "72980      1        0      0\n",
       "72981      1        0      0\n",
       "72982      1        0      0\n",
       "\n",
       "[72983 rows x 3 columns]"
      ]
     },
     "execution_count": 60,
     "metadata": {},
     "output_type": "execute_result"
    }
   ],
   "source": [
    "pd.get_dummies(train_data[categorical[0]])"
   ]
  },
  {
   "cell_type": "code",
   "execution_count": 61,
   "metadata": {},
   "outputs": [],
   "source": [
    "for i in categorical:\n",
    "    dummies=pd.get_dummies(train_data[i])\n",
    "    dummies.columns=str(i)+'_'+dummies.columns\n",
    "    train_data=pd.concat([train_data,dummies],axis=1)\n",
    "    train_data.drop(i,inplace=True,axis=1)\n",
    "    dummies=pd.get_dummies(test_data[i])\n",
    "    dummies.columns=str(i)+'_'+dummies.columns\n",
    "    test_data=pd.concat([test_data,dummies],axis=1)\n",
    "    test_data.drop(i,inplace=True,axis=1)    "
   ]
  },
  {
   "cell_type": "code",
   "execution_count": 62,
   "metadata": {},
   "outputs": [
    {
     "data": {
      "text/html": [
       "<div>\n",
       "<style scoped>\n",
       "    .dataframe tbody tr th:only-of-type {\n",
       "        vertical-align: middle;\n",
       "    }\n",
       "\n",
       "    .dataframe tbody tr th {\n",
       "        vertical-align: top;\n",
       "    }\n",
       "\n",
       "    .dataframe thead th {\n",
       "        text-align: right;\n",
       "    }\n",
       "</style>\n",
       "<table border=\"1\" class=\"dataframe\">\n",
       "  <thead>\n",
       "    <tr style=\"text-align: right;\">\n",
       "      <th></th>\n",
       "      <th>RefId</th>\n",
       "      <th>IsBadBuy</th>\n",
       "      <th>VehYear</th>\n",
       "      <th>VehicleAge</th>\n",
       "      <th>VehOdo</th>\n",
       "      <th>BYRNO</th>\n",
       "      <th>VNZIP1</th>\n",
       "      <th>VehBCost</th>\n",
       "      <th>IsOnlineSale</th>\n",
       "      <th>WarrantyCost</th>\n",
       "      <th>...</th>\n",
       "      <th>VNST_OK</th>\n",
       "      <th>VNST_OR</th>\n",
       "      <th>VNST_PA</th>\n",
       "      <th>VNST_SC</th>\n",
       "      <th>VNST_TN</th>\n",
       "      <th>VNST_TX</th>\n",
       "      <th>VNST_UT</th>\n",
       "      <th>VNST_VA</th>\n",
       "      <th>VNST_WA</th>\n",
       "      <th>VNST_WV</th>\n",
       "    </tr>\n",
       "  </thead>\n",
       "  <tbody>\n",
       "    <tr>\n",
       "      <th>0</th>\n",
       "      <td>1</td>\n",
       "      <td>0</td>\n",
       "      <td>0.998010</td>\n",
       "      <td>0.333333</td>\n",
       "      <td>0.769515</td>\n",
       "      <td>0.220256</td>\n",
       "      <td>0.338819</td>\n",
       "      <td>0.156150</td>\n",
       "      <td>0.0</td>\n",
       "      <td>0.148440</td>\n",
       "      <td>...</td>\n",
       "      <td>0</td>\n",
       "      <td>0</td>\n",
       "      <td>0</td>\n",
       "      <td>0</td>\n",
       "      <td>0</td>\n",
       "      <td>0</td>\n",
       "      <td>0</td>\n",
       "      <td>0</td>\n",
       "      <td>0</td>\n",
       "      <td>0</td>\n",
       "    </tr>\n",
       "    <tr>\n",
       "      <th>1</th>\n",
       "      <td>2</td>\n",
       "      <td>0</td>\n",
       "      <td>0.997015</td>\n",
       "      <td>0.555556</td>\n",
       "      <td>0.808809</td>\n",
       "      <td>0.196850</td>\n",
       "      <td>0.338819</td>\n",
       "      <td>0.167147</td>\n",
       "      <td>0.0</td>\n",
       "      <td>0.140437</td>\n",
       "      <td>...</td>\n",
       "      <td>0</td>\n",
       "      <td>0</td>\n",
       "      <td>0</td>\n",
       "      <td>0</td>\n",
       "      <td>0</td>\n",
       "      <td>0</td>\n",
       "      <td>0</td>\n",
       "      <td>0</td>\n",
       "      <td>0</td>\n",
       "      <td>0</td>\n",
       "    </tr>\n",
       "    <tr>\n",
       "      <th>2</th>\n",
       "      <td>3</td>\n",
       "      <td>0</td>\n",
       "      <td>0.997512</td>\n",
       "      <td>0.444444</td>\n",
       "      <td>0.637823</td>\n",
       "      <td>0.196850</td>\n",
       "      <td>0.338819</td>\n",
       "      <td>0.107766</td>\n",
       "      <td>0.0</td>\n",
       "      <td>0.185249</td>\n",
       "      <td>...</td>\n",
       "      <td>0</td>\n",
       "      <td>0</td>\n",
       "      <td>0</td>\n",
       "      <td>0</td>\n",
       "      <td>0</td>\n",
       "      <td>0</td>\n",
       "      <td>0</td>\n",
       "      <td>0</td>\n",
       "      <td>0</td>\n",
       "      <td>0</td>\n",
       "    </tr>\n",
       "    <tr>\n",
       "      <th>3</th>\n",
       "      <td>4</td>\n",
       "      <td>0</td>\n",
       "      <td>0.997015</td>\n",
       "      <td>0.555556</td>\n",
       "      <td>0.567047</td>\n",
       "      <td>0.196850</td>\n",
       "      <td>0.338819</td>\n",
       "      <td>0.090171</td>\n",
       "      <td>0.0</td>\n",
       "      <td>0.084022</td>\n",
       "      <td>...</td>\n",
       "      <td>0</td>\n",
       "      <td>0</td>\n",
       "      <td>0</td>\n",
       "      <td>0</td>\n",
       "      <td>0</td>\n",
       "      <td>0</td>\n",
       "      <td>0</td>\n",
       "      <td>0</td>\n",
       "      <td>0</td>\n",
       "      <td>0</td>\n",
       "    </tr>\n",
       "    <tr>\n",
       "      <th>4</th>\n",
       "      <td>5</td>\n",
       "      <td>0</td>\n",
       "      <td>0.997512</td>\n",
       "      <td>0.444444</td>\n",
       "      <td>0.599454</td>\n",
       "      <td>0.196850</td>\n",
       "      <td>0.338819</td>\n",
       "      <td>0.087972</td>\n",
       "      <td>0.0</td>\n",
       "      <td>0.136036</td>\n",
       "      <td>...</td>\n",
       "      <td>0</td>\n",
       "      <td>0</td>\n",
       "      <td>0</td>\n",
       "      <td>0</td>\n",
       "      <td>0</td>\n",
       "      <td>0</td>\n",
       "      <td>0</td>\n",
       "      <td>0</td>\n",
       "      <td>0</td>\n",
       "      <td>0</td>\n",
       "    </tr>\n",
       "  </tbody>\n",
       "</table>\n",
       "<p>5 rows × 136 columns</p>\n",
       "</div>"
      ],
      "text/plain": [
       "   RefId  IsBadBuy   VehYear  VehicleAge    VehOdo     BYRNO    VNZIP1  \\\n",
       "0      1         0  0.998010    0.333333  0.769515  0.220256  0.338819   \n",
       "1      2         0  0.997015    0.555556  0.808809  0.196850  0.338819   \n",
       "2      3         0  0.997512    0.444444  0.637823  0.196850  0.338819   \n",
       "3      4         0  0.997015    0.555556  0.567047  0.196850  0.338819   \n",
       "4      5         0  0.997512    0.444444  0.599454  0.196850  0.338819   \n",
       "\n",
       "   VehBCost  IsOnlineSale  WarrantyCost  ...  VNST_OK  VNST_OR  VNST_PA  \\\n",
       "0  0.156150           0.0      0.148440  ...        0        0        0   \n",
       "1  0.167147           0.0      0.140437  ...        0        0        0   \n",
       "2  0.107766           0.0      0.185249  ...        0        0        0   \n",
       "3  0.090171           0.0      0.084022  ...        0        0        0   \n",
       "4  0.087972           0.0      0.136036  ...        0        0        0   \n",
       "\n",
       "   VNST_SC  VNST_TN  VNST_TX  VNST_UT  VNST_VA  VNST_WA  VNST_WV  \n",
       "0        0        0        0        0        0        0        0  \n",
       "1        0        0        0        0        0        0        0  \n",
       "2        0        0        0        0        0        0        0  \n",
       "3        0        0        0        0        0        0        0  \n",
       "4        0        0        0        0        0        0        0  \n",
       "\n",
       "[5 rows x 136 columns]"
      ]
     },
     "execution_count": 62,
     "metadata": {},
     "output_type": "execute_result"
    }
   ],
   "source": [
    "train_data.head()"
   ]
  },
  {
   "cell_type": "code",
   "execution_count": 63,
   "metadata": {},
   "outputs": [
    {
     "data": {
      "text/plain": [
       "(72983, 136)"
      ]
     },
     "execution_count": 63,
     "metadata": {},
     "output_type": "execute_result"
    }
   ],
   "source": [
    "train_data.shape"
   ]
  },
  {
   "cell_type": "code",
   "execution_count": 64,
   "metadata": {},
   "outputs": [
    {
     "data": {
      "text/plain": [
       "(48707, 128)"
      ]
     },
     "execution_count": 64,
     "metadata": {},
     "output_type": "execute_result"
    }
   ],
   "source": [
    "test_data.shape"
   ]
  },
  {
   "cell_type": "code",
   "execution_count": 65,
   "metadata": {},
   "outputs": [],
   "source": [
    "for i in train_data.drop('IsBadBuy',axis=1).columns:\n",
    "    if i not in test_data.columns:\n",
    "        test_data[i]=np.zeros(len(test_data))"
   ]
  },
  {
   "cell_type": "code",
   "execution_count": 66,
   "metadata": {},
   "outputs": [],
   "source": [
    "for i in test_data.columns:\n",
    "    if i not in train_data.columns:\n",
    "        train_data[i]=np.zeros(len(train_data))"
   ]
  },
  {
   "cell_type": "code",
   "execution_count": 67,
   "metadata": {},
   "outputs": [
    {
     "data": {
      "text/plain": [
       "(72983, 138)"
      ]
     },
     "execution_count": 67,
     "metadata": {},
     "output_type": "execute_result"
    }
   ],
   "source": [
    "train_data.shape"
   ]
  },
  {
   "cell_type": "code",
   "execution_count": 68,
   "metadata": {},
   "outputs": [
    {
     "data": {
      "text/plain": [
       "(48707, 137)"
      ]
     },
     "execution_count": 68,
     "metadata": {},
     "output_type": "execute_result"
    }
   ],
   "source": [
    "test_data.shape"
   ]
  },
  {
   "cell_type": "code",
   "execution_count": 69,
   "metadata": {},
   "outputs": [
    {
     "data": {
      "text/html": [
       "<div>\n",
       "<style scoped>\n",
       "    .dataframe tbody tr th:only-of-type {\n",
       "        vertical-align: middle;\n",
       "    }\n",
       "\n",
       "    .dataframe tbody tr th {\n",
       "        vertical-align: top;\n",
       "    }\n",
       "\n",
       "    .dataframe thead th {\n",
       "        text-align: right;\n",
       "    }\n",
       "</style>\n",
       "<table border=\"1\" class=\"dataframe\">\n",
       "  <thead>\n",
       "    <tr style=\"text-align: right;\">\n",
       "      <th></th>\n",
       "      <th>RefId</th>\n",
       "      <th>IsBadBuy</th>\n",
       "      <th>VehYear</th>\n",
       "      <th>VehicleAge</th>\n",
       "      <th>VehOdo</th>\n",
       "      <th>BYRNO</th>\n",
       "      <th>VNZIP1</th>\n",
       "      <th>VehBCost</th>\n",
       "      <th>IsOnlineSale</th>\n",
       "      <th>WarrantyCost</th>\n",
       "      <th>...</th>\n",
       "      <th>VNST_PA</th>\n",
       "      <th>VNST_SC</th>\n",
       "      <th>VNST_TN</th>\n",
       "      <th>VNST_TX</th>\n",
       "      <th>VNST_UT</th>\n",
       "      <th>VNST_VA</th>\n",
       "      <th>VNST_WA</th>\n",
       "      <th>VNST_WV</th>\n",
       "      <th>Color_PINK</th>\n",
       "      <th>VNST_WI</th>\n",
       "    </tr>\n",
       "  </thead>\n",
       "  <tbody>\n",
       "    <tr>\n",
       "      <th>0</th>\n",
       "      <td>1</td>\n",
       "      <td>0</td>\n",
       "      <td>0.998010</td>\n",
       "      <td>0.333333</td>\n",
       "      <td>0.769515</td>\n",
       "      <td>0.220256</td>\n",
       "      <td>0.338819</td>\n",
       "      <td>0.156150</td>\n",
       "      <td>0.0</td>\n",
       "      <td>0.148440</td>\n",
       "      <td>...</td>\n",
       "      <td>0</td>\n",
       "      <td>0</td>\n",
       "      <td>0</td>\n",
       "      <td>0</td>\n",
       "      <td>0</td>\n",
       "      <td>0</td>\n",
       "      <td>0</td>\n",
       "      <td>0</td>\n",
       "      <td>0.0</td>\n",
       "      <td>0.0</td>\n",
       "    </tr>\n",
       "    <tr>\n",
       "      <th>1</th>\n",
       "      <td>2</td>\n",
       "      <td>0</td>\n",
       "      <td>0.997015</td>\n",
       "      <td>0.555556</td>\n",
       "      <td>0.808809</td>\n",
       "      <td>0.196850</td>\n",
       "      <td>0.338819</td>\n",
       "      <td>0.167147</td>\n",
       "      <td>0.0</td>\n",
       "      <td>0.140437</td>\n",
       "      <td>...</td>\n",
       "      <td>0</td>\n",
       "      <td>0</td>\n",
       "      <td>0</td>\n",
       "      <td>0</td>\n",
       "      <td>0</td>\n",
       "      <td>0</td>\n",
       "      <td>0</td>\n",
       "      <td>0</td>\n",
       "      <td>0.0</td>\n",
       "      <td>0.0</td>\n",
       "    </tr>\n",
       "    <tr>\n",
       "      <th>2</th>\n",
       "      <td>3</td>\n",
       "      <td>0</td>\n",
       "      <td>0.997512</td>\n",
       "      <td>0.444444</td>\n",
       "      <td>0.637823</td>\n",
       "      <td>0.196850</td>\n",
       "      <td>0.338819</td>\n",
       "      <td>0.107766</td>\n",
       "      <td>0.0</td>\n",
       "      <td>0.185249</td>\n",
       "      <td>...</td>\n",
       "      <td>0</td>\n",
       "      <td>0</td>\n",
       "      <td>0</td>\n",
       "      <td>0</td>\n",
       "      <td>0</td>\n",
       "      <td>0</td>\n",
       "      <td>0</td>\n",
       "      <td>0</td>\n",
       "      <td>0.0</td>\n",
       "      <td>0.0</td>\n",
       "    </tr>\n",
       "    <tr>\n",
       "      <th>3</th>\n",
       "      <td>4</td>\n",
       "      <td>0</td>\n",
       "      <td>0.997015</td>\n",
       "      <td>0.555556</td>\n",
       "      <td>0.567047</td>\n",
       "      <td>0.196850</td>\n",
       "      <td>0.338819</td>\n",
       "      <td>0.090171</td>\n",
       "      <td>0.0</td>\n",
       "      <td>0.084022</td>\n",
       "      <td>...</td>\n",
       "      <td>0</td>\n",
       "      <td>0</td>\n",
       "      <td>0</td>\n",
       "      <td>0</td>\n",
       "      <td>0</td>\n",
       "      <td>0</td>\n",
       "      <td>0</td>\n",
       "      <td>0</td>\n",
       "      <td>0.0</td>\n",
       "      <td>0.0</td>\n",
       "    </tr>\n",
       "    <tr>\n",
       "      <th>4</th>\n",
       "      <td>5</td>\n",
       "      <td>0</td>\n",
       "      <td>0.997512</td>\n",
       "      <td>0.444444</td>\n",
       "      <td>0.599454</td>\n",
       "      <td>0.196850</td>\n",
       "      <td>0.338819</td>\n",
       "      <td>0.087972</td>\n",
       "      <td>0.0</td>\n",
       "      <td>0.136036</td>\n",
       "      <td>...</td>\n",
       "      <td>0</td>\n",
       "      <td>0</td>\n",
       "      <td>0</td>\n",
       "      <td>0</td>\n",
       "      <td>0</td>\n",
       "      <td>0</td>\n",
       "      <td>0</td>\n",
       "      <td>0</td>\n",
       "      <td>0.0</td>\n",
       "      <td>0.0</td>\n",
       "    </tr>\n",
       "  </tbody>\n",
       "</table>\n",
       "<p>5 rows × 138 columns</p>\n",
       "</div>"
      ],
      "text/plain": [
       "   RefId  IsBadBuy   VehYear  VehicleAge    VehOdo     BYRNO    VNZIP1  \\\n",
       "0      1         0  0.998010    0.333333  0.769515  0.220256  0.338819   \n",
       "1      2         0  0.997015    0.555556  0.808809  0.196850  0.338819   \n",
       "2      3         0  0.997512    0.444444  0.637823  0.196850  0.338819   \n",
       "3      4         0  0.997015    0.555556  0.567047  0.196850  0.338819   \n",
       "4      5         0  0.997512    0.444444  0.599454  0.196850  0.338819   \n",
       "\n",
       "   VehBCost  IsOnlineSale  WarrantyCost  ...  VNST_PA  VNST_SC  VNST_TN  \\\n",
       "0  0.156150           0.0      0.148440  ...        0        0        0   \n",
       "1  0.167147           0.0      0.140437  ...        0        0        0   \n",
       "2  0.107766           0.0      0.185249  ...        0        0        0   \n",
       "3  0.090171           0.0      0.084022  ...        0        0        0   \n",
       "4  0.087972           0.0      0.136036  ...        0        0        0   \n",
       "\n",
       "   VNST_TX  VNST_UT  VNST_VA  VNST_WA  VNST_WV  Color_PINK  VNST_WI  \n",
       "0        0        0        0        0        0         0.0      0.0  \n",
       "1        0        0        0        0        0         0.0      0.0  \n",
       "2        0        0        0        0        0         0.0      0.0  \n",
       "3        0        0        0        0        0         0.0      0.0  \n",
       "4        0        0        0        0        0         0.0      0.0  \n",
       "\n",
       "[5 rows x 138 columns]"
      ]
     },
     "execution_count": 69,
     "metadata": {},
     "output_type": "execute_result"
    }
   ],
   "source": [
    "train_data.head()"
   ]
  },
  {
   "cell_type": "code",
   "execution_count": 70,
   "metadata": {},
   "outputs": [
    {
     "data": {
      "text/html": [
       "<div>\n",
       "<style scoped>\n",
       "    .dataframe tbody tr th:only-of-type {\n",
       "        vertical-align: middle;\n",
       "    }\n",
       "\n",
       "    .dataframe tbody tr th {\n",
       "        vertical-align: top;\n",
       "    }\n",
       "\n",
       "    .dataframe thead th {\n",
       "        text-align: right;\n",
       "    }\n",
       "</style>\n",
       "<table border=\"1\" class=\"dataframe\">\n",
       "  <thead>\n",
       "    <tr style=\"text-align: right;\">\n",
       "      <th></th>\n",
       "      <th>RefId</th>\n",
       "      <th>VehYear</th>\n",
       "      <th>VehicleAge</th>\n",
       "      <th>VehOdo</th>\n",
       "      <th>BYRNO</th>\n",
       "      <th>VNZIP1</th>\n",
       "      <th>VehBCost</th>\n",
       "      <th>IsOnlineSale</th>\n",
       "      <th>WarrantyCost</th>\n",
       "      <th>Auction_ADESA</th>\n",
       "      <th>...</th>\n",
       "      <th>VNST_WV</th>\n",
       "      <th>Make_HUMMER</th>\n",
       "      <th>Make_PLYMOUTH</th>\n",
       "      <th>Make_TOYOTA SCION</th>\n",
       "      <th>VNST_IA</th>\n",
       "      <th>VNST_ID</th>\n",
       "      <th>VNST_MA</th>\n",
       "      <th>VNST_MD</th>\n",
       "      <th>VNST_MI</th>\n",
       "      <th>VNST_NE</th>\n",
       "    </tr>\n",
       "  </thead>\n",
       "  <tbody>\n",
       "    <tr>\n",
       "      <th>0</th>\n",
       "      <td>73015</td>\n",
       "      <td>0.997512</td>\n",
       "      <td>0.444444</td>\n",
       "      <td>0.743793</td>\n",
       "      <td>0.189205</td>\n",
       "      <td>0.308085</td>\n",
       "      <td>0.114135</td>\n",
       "      <td>0.0</td>\n",
       "      <td>0.287010</td>\n",
       "      <td>1</td>\n",
       "      <td>...</td>\n",
       "      <td>0</td>\n",
       "      <td>0.0</td>\n",
       "      <td>0.0</td>\n",
       "      <td>0.0</td>\n",
       "      <td>0.0</td>\n",
       "      <td>0.0</td>\n",
       "      <td>0.0</td>\n",
       "      <td>0.0</td>\n",
       "      <td>0.0</td>\n",
       "      <td>0.0</td>\n",
       "    </tr>\n",
       "    <tr>\n",
       "      <th>1</th>\n",
       "      <td>73016</td>\n",
       "      <td>0.997512</td>\n",
       "      <td>0.444444</td>\n",
       "      <td>0.539029</td>\n",
       "      <td>0.181489</td>\n",
       "      <td>0.308085</td>\n",
       "      <td>0.110623</td>\n",
       "      <td>0.0</td>\n",
       "      <td>0.149106</td>\n",
       "      <td>1</td>\n",
       "      <td>...</td>\n",
       "      <td>0</td>\n",
       "      <td>0.0</td>\n",
       "      <td>0.0</td>\n",
       "      <td>0.0</td>\n",
       "      <td>0.0</td>\n",
       "      <td>0.0</td>\n",
       "      <td>0.0</td>\n",
       "      <td>0.0</td>\n",
       "      <td>0.0</td>\n",
       "      <td>0.0</td>\n",
       "    </tr>\n",
       "    <tr>\n",
       "      <th>2</th>\n",
       "      <td>73017</td>\n",
       "      <td>0.998010</td>\n",
       "      <td>0.333333</td>\n",
       "      <td>0.603584</td>\n",
       "      <td>0.181489</td>\n",
       "      <td>0.308085</td>\n",
       "      <td>0.170325</td>\n",
       "      <td>0.0</td>\n",
       "      <td>0.162043</td>\n",
       "      <td>1</td>\n",
       "      <td>...</td>\n",
       "      <td>0</td>\n",
       "      <td>0.0</td>\n",
       "      <td>0.0</td>\n",
       "      <td>0.0</td>\n",
       "      <td>0.0</td>\n",
       "      <td>0.0</td>\n",
       "      <td>0.0</td>\n",
       "      <td>0.0</td>\n",
       "      <td>0.0</td>\n",
       "      <td>0.0</td>\n",
       "    </tr>\n",
       "    <tr>\n",
       "      <th>3</th>\n",
       "      <td>73018</td>\n",
       "      <td>0.996020</td>\n",
       "      <td>0.777778</td>\n",
       "      <td>0.765677</td>\n",
       "      <td>0.189205</td>\n",
       "      <td>0.308085</td>\n",
       "      <td>0.072871</td>\n",
       "      <td>0.0</td>\n",
       "      <td>0.257802</td>\n",
       "      <td>1</td>\n",
       "      <td>...</td>\n",
       "      <td>0</td>\n",
       "      <td>0.0</td>\n",
       "      <td>0.0</td>\n",
       "      <td>0.0</td>\n",
       "      <td>0.0</td>\n",
       "      <td>0.0</td>\n",
       "      <td>0.0</td>\n",
       "      <td>0.0</td>\n",
       "      <td>0.0</td>\n",
       "      <td>0.0</td>\n",
       "    </tr>\n",
       "    <tr>\n",
       "      <th>4</th>\n",
       "      <td>73019</td>\n",
       "      <td>0.998507</td>\n",
       "      <td>0.222222</td>\n",
       "      <td>0.639730</td>\n",
       "      <td>0.181489</td>\n",
       "      <td>0.308085</td>\n",
       "      <td>0.071993</td>\n",
       "      <td>0.0</td>\n",
       "      <td>0.122699</td>\n",
       "      <td>1</td>\n",
       "      <td>...</td>\n",
       "      <td>0</td>\n",
       "      <td>0.0</td>\n",
       "      <td>0.0</td>\n",
       "      <td>0.0</td>\n",
       "      <td>0.0</td>\n",
       "      <td>0.0</td>\n",
       "      <td>0.0</td>\n",
       "      <td>0.0</td>\n",
       "      <td>0.0</td>\n",
       "      <td>0.0</td>\n",
       "    </tr>\n",
       "  </tbody>\n",
       "</table>\n",
       "<p>5 rows × 137 columns</p>\n",
       "</div>"
      ],
      "text/plain": [
       "   RefId   VehYear  VehicleAge    VehOdo     BYRNO    VNZIP1  VehBCost  \\\n",
       "0  73015  0.997512    0.444444  0.743793  0.189205  0.308085  0.114135   \n",
       "1  73016  0.997512    0.444444  0.539029  0.181489  0.308085  0.110623   \n",
       "2  73017  0.998010    0.333333  0.603584  0.181489  0.308085  0.170325   \n",
       "3  73018  0.996020    0.777778  0.765677  0.189205  0.308085  0.072871   \n",
       "4  73019  0.998507    0.222222  0.639730  0.181489  0.308085  0.071993   \n",
       "\n",
       "   IsOnlineSale  WarrantyCost  Auction_ADESA  ...  VNST_WV  Make_HUMMER  \\\n",
       "0           0.0      0.287010              1  ...        0          0.0   \n",
       "1           0.0      0.149106              1  ...        0          0.0   \n",
       "2           0.0      0.162043              1  ...        0          0.0   \n",
       "3           0.0      0.257802              1  ...        0          0.0   \n",
       "4           0.0      0.122699              1  ...        0          0.0   \n",
       "\n",
       "   Make_PLYMOUTH  Make_TOYOTA SCION  VNST_IA  VNST_ID  VNST_MA  VNST_MD  \\\n",
       "0            0.0                0.0      0.0      0.0      0.0      0.0   \n",
       "1            0.0                0.0      0.0      0.0      0.0      0.0   \n",
       "2            0.0                0.0      0.0      0.0      0.0      0.0   \n",
       "3            0.0                0.0      0.0      0.0      0.0      0.0   \n",
       "4            0.0                0.0      0.0      0.0      0.0      0.0   \n",
       "\n",
       "   VNST_MI  VNST_NE  \n",
       "0      0.0      0.0  \n",
       "1      0.0      0.0  \n",
       "2      0.0      0.0  \n",
       "3      0.0      0.0  \n",
       "4      0.0      0.0  \n",
       "\n",
       "[5 rows x 137 columns]"
      ]
     },
     "execution_count": 70,
     "metadata": {},
     "output_type": "execute_result"
    }
   ],
   "source": [
    "test_data.head()"
   ]
  },
  {
   "cell_type": "code",
   "execution_count": 71,
   "metadata": {},
   "outputs": [],
   "source": [
    "test_data=test_data[train_data.drop(\"IsBadBuy\",axis=1).columns]"
   ]
  },
  {
   "cell_type": "code",
   "execution_count": 72,
   "metadata": {},
   "outputs": [
    {
     "name": "stdout",
     "output_type": "stream",
     "text": [
      "(72983, 138)\n",
      "(48707, 137)\n"
     ]
    }
   ],
   "source": [
    "print(train_data.shape)\n",
    "print(test_data.shape)"
   ]
  },
  {
   "cell_type": "code",
   "execution_count": 73,
   "metadata": {},
   "outputs": [
    {
     "data": {
      "text/plain": [
       "Index(['RefId', 'IsBadBuy', 'VehYear', 'VehicleAge', 'VehOdo', 'BYRNO',\n",
       "       'VNZIP1', 'VehBCost', 'IsOnlineSale', 'WarrantyCost',\n",
       "       ...\n",
       "       'VNST_PA', 'VNST_SC', 'VNST_TN', 'VNST_TX', 'VNST_UT', 'VNST_VA',\n",
       "       'VNST_WA', 'VNST_WV', 'Color_PINK', 'VNST_WI'],\n",
       "      dtype='object', length=138)"
      ]
     },
     "execution_count": 73,
     "metadata": {},
     "output_type": "execute_result"
    }
   ],
   "source": [
    "train_data.columns"
   ]
  },
  {
   "cell_type": "code",
   "execution_count": 74,
   "metadata": {},
   "outputs": [
    {
     "data": {
      "text/plain": [
       "Index(['RefId', 'VehYear', 'VehicleAge', 'VehOdo', 'BYRNO', 'VNZIP1',\n",
       "       'VehBCost', 'IsOnlineSale', 'WarrantyCost', 'Auction_ADESA',\n",
       "       ...\n",
       "       'VNST_PA', 'VNST_SC', 'VNST_TN', 'VNST_TX', 'VNST_UT', 'VNST_VA',\n",
       "       'VNST_WA', 'VNST_WV', 'Color_PINK', 'VNST_WI'],\n",
       "      dtype='object', length=137)"
      ]
     },
     "execution_count": 74,
     "metadata": {},
     "output_type": "execute_result"
    }
   ],
   "source": [
    "test_data.columns"
   ]
  },
  {
   "cell_type": "code",
   "execution_count": 75,
   "metadata": {},
   "outputs": [],
   "source": [
    "from sklearn.model_selection import train_test_split\n",
    "X=train_data.drop(['RefId','IsBadBuy'],axis=1)\n",
    "y=train_data['IsBadBuy']"
   ]
  },
  {
   "cell_type": "code",
   "execution_count": 76,
   "metadata": {},
   "outputs": [],
   "source": [
    "X_train,X_test,y_train,y_test=train_test_split(X,y,random_state=42)"
   ]
  },
  {
   "cell_type": "code",
   "execution_count": 77,
   "metadata": {},
   "outputs": [
    {
     "name": "stdout",
     "output_type": "stream",
     "text": [
      "(54737, 136) (54737,)\n",
      "(18246, 136) (18246,)\n"
     ]
    }
   ],
   "source": [
    "print(X_train.shape,y_train.shape)\n",
    "print(X_test.shape,y_test.shape)"
   ]
  },
  {
   "cell_type": "code",
   "execution_count": 78,
   "metadata": {},
   "outputs": [],
   "source": [
    "from sklearn.neighbors import KNeighborsClassifier"
   ]
  },
  {
   "cell_type": "code",
   "execution_count": 79,
   "metadata": {},
   "outputs": [
    {
     "data": {
      "text/plain": [
       "KNeighborsClassifier(algorithm='auto', leaf_size=30, metric='minkowski',\n",
       "                     metric_params=None, n_jobs=None, n_neighbors=11, p=2,\n",
       "                     weights='uniform')"
      ]
     },
     "execution_count": 79,
     "metadata": {},
     "output_type": "execute_result"
    }
   ],
   "source": [
    "KNN=KNeighborsClassifier(n_neighbors=11)\n",
    "KNN.fit(X_train,y_train)"
   ]
  },
  {
   "cell_type": "code",
   "execution_count": 80,
   "metadata": {},
   "outputs": [
    {
     "data": {
      "text/plain": [
       "0.8902773210566699"
      ]
     },
     "execution_count": 80,
     "metadata": {},
     "output_type": "execute_result"
    }
   ],
   "source": [
    "KNN.score(X_test,y_test)"
   ]
  },
  {
   "cell_type": "code",
   "execution_count": 81,
   "metadata": {},
   "outputs": [],
   "source": [
    "predict=KNN.predict(test_data.drop('RefId',axis=1))"
   ]
  },
  {
   "cell_type": "code",
   "execution_count": 82,
   "metadata": {},
   "outputs": [
    {
     "data": {
      "text/html": [
       "<div>\n",
       "<style scoped>\n",
       "    .dataframe tbody tr th:only-of-type {\n",
       "        vertical-align: middle;\n",
       "    }\n",
       "\n",
       "    .dataframe tbody tr th {\n",
       "        vertical-align: top;\n",
       "    }\n",
       "\n",
       "    .dataframe thead th {\n",
       "        text-align: right;\n",
       "    }\n",
       "</style>\n",
       "<table border=\"1\" class=\"dataframe\">\n",
       "  <thead>\n",
       "    <tr style=\"text-align: right;\">\n",
       "      <th></th>\n",
       "      <th>IsBadBuy</th>\n",
       "    </tr>\n",
       "  </thead>\n",
       "  <tbody>\n",
       "    <tr>\n",
       "      <th>0</th>\n",
       "      <td>0</td>\n",
       "    </tr>\n",
       "    <tr>\n",
       "      <th>1</th>\n",
       "      <td>0</td>\n",
       "    </tr>\n",
       "    <tr>\n",
       "      <th>2</th>\n",
       "      <td>0</td>\n",
       "    </tr>\n",
       "    <tr>\n",
       "      <th>3</th>\n",
       "      <td>0</td>\n",
       "    </tr>\n",
       "    <tr>\n",
       "      <th>4</th>\n",
       "      <td>0</td>\n",
       "    </tr>\n",
       "  </tbody>\n",
       "</table>\n",
       "</div>"
      ],
      "text/plain": [
       "   IsBadBuy\n",
       "0         0\n",
       "1         0\n",
       "2         0\n",
       "3         0\n",
       "4         0"
      ]
     },
     "execution_count": 82,
     "metadata": {},
     "output_type": "execute_result"
    }
   ],
   "source": [
    "Submission=pd.DataFrame(data=predict,columns=['IsBadBuy'])\n",
    "Submission.head()"
   ]
  },
  {
   "cell_type": "code",
   "execution_count": 83,
   "metadata": {},
   "outputs": [],
   "source": [
    "Submission['RefId']=test_data['RefId']\n",
    "Submission.set_index('RefId',inplace=True)"
   ]
  },
  {
   "cell_type": "code",
   "execution_count": 84,
   "metadata": {},
   "outputs": [],
   "source": [
    "Submission.head()\n",
    "Submission.to_csv('Submission.csv')"
   ]
  }
 ],
 "metadata": {
  "kernelspec": {
   "display_name": "Python 3",
   "language": "python",
   "name": "python3"
  },
  "language_info": {
   "codemirror_mode": {
    "name": "ipython",
    "version": 3
   },
   "file_extension": ".py",
   "mimetype": "text/x-python",
   "name": "python",
   "nbconvert_exporter": "python",
   "pygments_lexer": "ipython3",
   "version": "3.7.6"
  }
 },
 "nbformat": 4,
 "nbformat_minor": 4
}
